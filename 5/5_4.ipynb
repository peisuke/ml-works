{
  "nbformat": 4,
  "nbformat_minor": 0,
  "metadata": {
    "colab": {
      "name": "5_4.ipynb",
      "provenance": [],
      "authorship_tag": "ABX9TyP+nxqPWbO8SurEgg0NARZF",
      "include_colab_link": true
    },
    "kernelspec": {
      "name": "python3",
      "display_name": "Python 3"
    }
  },
  "cells": [
    {
      "cell_type": "markdown",
      "metadata": {
        "id": "view-in-github",
        "colab_type": "text"
      },
      "source": [
        "<a href=\"https://colab.research.google.com/github/peisuke/ml-works/blob/main/5/5_4.ipynb\" target=\"_parent\"><img src=\"https://colab.research.google.com/assets/colab-badge.svg\" alt=\"Open In Colab\"/></a>"
      ]
    },
    {
      "cell_type": "markdown",
      "metadata": {
        "id": "t-yd4z1pyvsV"
      },
      "source": [
        "- 本コードは以下のサイトを参考にしました\n",
        "- https://analysis-navi.com/?p=2753"
      ]
    },
    {
      "cell_type": "code",
      "metadata": {
        "id": "J1LLmHE8yaZs"
      },
      "source": [
        "import numpy as np\n",
        "import pandas as pd\n",
        "from sklearn.datasets import load_breast_cancer\n",
        "import xgboost as xgb\n",
        "from sklearn.model_selection import cross_validate,cross_val_predict, StratifiedKFold"
      ],
      "execution_count": 1,
      "outputs": []
    },
    {
      "cell_type": "code",
      "metadata": {
        "id": "AXJB5o7py4Ru"
      },
      "source": [
        "cancer = load_breast_cancer()\n",
        "X = cancer.data\n",
        "y = cancer.target\n",
        "X_cols = cancer.feature_names"
      ],
      "execution_count": 2,
      "outputs": []
    },
    {
      "cell_type": "code",
      "metadata": {
        "colab": {
          "base_uri": "https://localhost:8080/"
        },
        "id": "lv1blJ76yiKL",
        "outputId": "d5d54a43-d225-4d69-9986-36652ad2b50a"
      },
      "source": [
        "splits = 5\n",
        "skf = StratifiedKFold(n_splits=splits, shuffle=True, random_state=42)\n",
        "score_funcs = [\"accuracy\",\"precision_macro\",\"recall_macro\",\"f1_macro\"]\n",
        " \n",
        "clf = xgb.XGBClassifier(objective=\"binary:logistic\")\n",
        " \n",
        "score = cross_validate(clf, X, y, cv=skf, scoring=score_funcs,return_estimator=True)\n",
        " \n",
        "print('test_accuracy:', score[\"test_accuracy\"].mean())\n",
        "print('test_precision_macro:', score[\"test_precision_macro\"].mean())\n",
        "print('test_recall_macro:', score[\"test_recall_macro\"].mean())\n",
        "print('test_f1_macro:', score[\"test_f1_macro\"].mean())"
      ],
      "execution_count": 3,
      "outputs": [
        {
          "output_type": "stream",
          "text": [
            "test_accuracy: 0.9543083372147182\n",
            "test_precision_macro: 0.9565126435126435\n",
            "test_recall_macro: 0.9465072086264357\n",
            "test_f1_macro: 0.9503446785254658\n"
          ],
          "name": "stdout"
        }
      ]
    },
    {
      "cell_type": "code",
      "metadata": {
        "colab": {
          "base_uri": "https://localhost:8080/",
          "height": 979
        },
        "id": "BVB8q-13ymQS",
        "outputId": "44d93439-dfff-4bb4-f2c9-c38c5ade8d23"
      },
      "source": [
        "sum_score = np.zeros(len(X_cols ),)\n",
        " \n",
        "for i in range(splits):\n",
        "    sum_score += score[\"estimator\"][i].feature_importances_\n",
        " \n",
        "df_score = pd.DataFrame(sum_score/splits,index=X_cols,columns=[\"score\"])\n",
        " \n",
        "df_score.sort_values(\"score\",ascending=False) #影響が大きい順に表示"
      ],
      "execution_count": 4,
      "outputs": [
        {
          "output_type": "execute_result",
          "data": {
            "text/html": [
              "<div>\n",
              "<style scoped>\n",
              "    .dataframe tbody tr th:only-of-type {\n",
              "        vertical-align: middle;\n",
              "    }\n",
              "\n",
              "    .dataframe tbody tr th {\n",
              "        vertical-align: top;\n",
              "    }\n",
              "\n",
              "    .dataframe thead th {\n",
              "        text-align: right;\n",
              "    }\n",
              "</style>\n",
              "<table border=\"1\" class=\"dataframe\">\n",
              "  <thead>\n",
              "    <tr style=\"text-align: right;\">\n",
              "      <th></th>\n",
              "      <th>score</th>\n",
              "    </tr>\n",
              "  </thead>\n",
              "  <tbody>\n",
              "    <tr>\n",
              "      <th>worst perimeter</th>\n",
              "      <td>0.270269</td>\n",
              "    </tr>\n",
              "    <tr>\n",
              "      <th>worst radius</th>\n",
              "      <td>0.175068</td>\n",
              "    </tr>\n",
              "    <tr>\n",
              "      <th>mean concave points</th>\n",
              "      <td>0.121993</td>\n",
              "    </tr>\n",
              "    <tr>\n",
              "      <th>worst area</th>\n",
              "      <td>0.098587</td>\n",
              "    </tr>\n",
              "    <tr>\n",
              "      <th>worst concave points</th>\n",
              "      <td>0.098465</td>\n",
              "    </tr>\n",
              "    <tr>\n",
              "      <th>worst concavity</th>\n",
              "      <td>0.024050</td>\n",
              "    </tr>\n",
              "    <tr>\n",
              "      <th>worst texture</th>\n",
              "      <td>0.021694</td>\n",
              "    </tr>\n",
              "    <tr>\n",
              "      <th>mean concavity</th>\n",
              "      <td>0.020807</td>\n",
              "    </tr>\n",
              "    <tr>\n",
              "      <th>mean texture</th>\n",
              "      <td>0.018932</td>\n",
              "    </tr>\n",
              "    <tr>\n",
              "      <th>concavity error</th>\n",
              "      <td>0.013711</td>\n",
              "    </tr>\n",
              "    <tr>\n",
              "      <th>radius error</th>\n",
              "      <td>0.012034</td>\n",
              "    </tr>\n",
              "    <tr>\n",
              "      <th>mean area</th>\n",
              "      <td>0.011755</td>\n",
              "    </tr>\n",
              "    <tr>\n",
              "      <th>area error</th>\n",
              "      <td>0.010587</td>\n",
              "    </tr>\n",
              "    <tr>\n",
              "      <th>worst smoothness</th>\n",
              "      <td>0.010129</td>\n",
              "    </tr>\n",
              "    <tr>\n",
              "      <th>concave points error</th>\n",
              "      <td>0.009900</td>\n",
              "    </tr>\n",
              "    <tr>\n",
              "      <th>smoothness error</th>\n",
              "      <td>0.008200</td>\n",
              "    </tr>\n",
              "    <tr>\n",
              "      <th>mean smoothness</th>\n",
              "      <td>0.007738</td>\n",
              "    </tr>\n",
              "    <tr>\n",
              "      <th>texture error</th>\n",
              "      <td>0.007470</td>\n",
              "    </tr>\n",
              "    <tr>\n",
              "      <th>compactness error</th>\n",
              "      <td>0.007123</td>\n",
              "    </tr>\n",
              "    <tr>\n",
              "      <th>mean compactness</th>\n",
              "      <td>0.006159</td>\n",
              "    </tr>\n",
              "    <tr>\n",
              "      <th>worst symmetry</th>\n",
              "      <td>0.005793</td>\n",
              "    </tr>\n",
              "    <tr>\n",
              "      <th>perimeter error</th>\n",
              "      <td>0.005735</td>\n",
              "    </tr>\n",
              "    <tr>\n",
              "      <th>mean radius</th>\n",
              "      <td>0.005675</td>\n",
              "    </tr>\n",
              "    <tr>\n",
              "      <th>worst fractal dimension</th>\n",
              "      <td>0.005125</td>\n",
              "    </tr>\n",
              "    <tr>\n",
              "      <th>mean fractal dimension</th>\n",
              "      <td>0.004623</td>\n",
              "    </tr>\n",
              "    <tr>\n",
              "      <th>mean symmetry</th>\n",
              "      <td>0.004606</td>\n",
              "    </tr>\n",
              "    <tr>\n",
              "      <th>mean perimeter</th>\n",
              "      <td>0.004055</td>\n",
              "    </tr>\n",
              "    <tr>\n",
              "      <th>worst compactness</th>\n",
              "      <td>0.003905</td>\n",
              "    </tr>\n",
              "    <tr>\n",
              "      <th>symmetry error</th>\n",
              "      <td>0.003068</td>\n",
              "    </tr>\n",
              "    <tr>\n",
              "      <th>fractal dimension error</th>\n",
              "      <td>0.002743</td>\n",
              "    </tr>\n",
              "  </tbody>\n",
              "</table>\n",
              "</div>"
            ],
            "text/plain": [
              "                            score\n",
              "worst perimeter          0.270269\n",
              "worst radius             0.175068\n",
              "mean concave points      0.121993\n",
              "worst area               0.098587\n",
              "worst concave points     0.098465\n",
              "worst concavity          0.024050\n",
              "worst texture            0.021694\n",
              "mean concavity           0.020807\n",
              "mean texture             0.018932\n",
              "concavity error          0.013711\n",
              "radius error             0.012034\n",
              "mean area                0.011755\n",
              "area error               0.010587\n",
              "worst smoothness         0.010129\n",
              "concave points error     0.009900\n",
              "smoothness error         0.008200\n",
              "mean smoothness          0.007738\n",
              "texture error            0.007470\n",
              "compactness error        0.007123\n",
              "mean compactness         0.006159\n",
              "worst symmetry           0.005793\n",
              "perimeter error          0.005735\n",
              "mean radius              0.005675\n",
              "worst fractal dimension  0.005125\n",
              "mean fractal dimension   0.004623\n",
              "mean symmetry            0.004606\n",
              "mean perimeter           0.004055\n",
              "worst compactness        0.003905\n",
              "symmetry error           0.003068\n",
              "fractal dimension error  0.002743"
            ]
          },
          "metadata": {
            "tags": []
          },
          "execution_count": 4
        }
      ]
    },
    {
      "cell_type": "code",
      "metadata": {
        "colab": {
          "base_uri": "https://localhost:8080/"
        },
        "id": "M0XcBv4kypkU",
        "outputId": "a96ce90c-a905-42d7-9615-04619b09c4e7"
      },
      "source": [
        "#予測\n",
        "sample = X[0] + np.random.rand(len(X[0])) #適当なデータを作成\n",
        " \n",
        "score[\"estimator\"][0].predict([sample])"
      ],
      "execution_count": 5,
      "outputs": [
        {
          "output_type": "execute_result",
          "data": {
            "text/plain": [
              "array([0])"
            ]
          },
          "metadata": {
            "tags": []
          },
          "execution_count": 5
        }
      ]
    },
    {
      "cell_type": "code",
      "metadata": {
        "id": "F2VCUElcysoT"
      },
      "source": [
        ""
      ],
      "execution_count": 5,
      "outputs": []
    }
  ]
}