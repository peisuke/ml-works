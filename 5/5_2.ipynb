{
  "nbformat": 4,
  "nbformat_minor": 0,
  "metadata": {
    "colab": {
      "name": "5_2.ipynb",
      "provenance": [],
      "collapsed_sections": [],
      "authorship_tag": "ABX9TyN0t1ssD9BbVXDCHcb1FsbW",
      "include_colab_link": true
    },
    "kernelspec": {
      "name": "python3",
      "display_name": "Python 3"
    }
  },
  "cells": [
    {
      "cell_type": "markdown",
      "metadata": {
        "id": "view-in-github",
        "colab_type": "text"
      },
      "source": [
        "<a href=\"https://colab.research.google.com/github/peisuke/ml-works/blob/main/5/5_2.ipynb\" target=\"_parent\"><img src=\"https://colab.research.google.com/assets/colab-badge.svg\" alt=\"Open In Colab\"/></a>"
      ]
    },
    {
      "cell_type": "markdown",
      "metadata": {
        "id": "7zTr6IBWrXin"
      },
      "source": [
        "- 本コードは以下のサイトを参考にしました\n",
        "- https://www.randpy.tokyo/entry/python_random_forest"
      ]
    },
    {
      "cell_type": "code",
      "metadata": {
        "id": "SsDxrefXrWmc"
      },
      "source": [
        "import numpy as np\n",
        "import pandas as pd\n",
        "import matplotlib.pyplot as plt\n",
        "from sklearn.datasets import load_wine\n",
        "from sklearn import metrics, preprocessing, model_selection"
      ],
      "execution_count": 1,
      "outputs": []
    },
    {
      "cell_type": "code",
      "metadata": {
        "id": "YcooVbuestQD"
      },
      "source": [
        "data = load_wine()\n",
        "X=data.data\n",
        "y=data.target\n",
        "\n",
        "sc=preprocessing.StandardScaler()\n",
        "sc.fit(X)\n",
        "X_std=sc.transform(X)"
      ],
      "execution_count": 2,
      "outputs": []
    },
    {
      "cell_type": "code",
      "metadata": {
        "colab": {
          "base_uri": "https://localhost:8080/"
        },
        "id": "sVSVxlnOsvo0",
        "outputId": "659fb4ad-d345-4ad1-e034-b49a76b70ebf"
      },
      "source": [
        "from sklearn.ensemble import RandomForestClassifier\n",
        "X_train, X_test, train_label, test_label=model_selection.train_test_split(X_std, y, test_size=0.1, random_state=0)\n",
        "\n",
        "clf = RandomForestClassifier(random_state=0)\n",
        "clf.fit(X_train, train_label)"
      ],
      "execution_count": 3,
      "outputs": [
        {
          "output_type": "execute_result",
          "data": {
            "text/plain": [
              "RandomForestClassifier(bootstrap=True, ccp_alpha=0.0, class_weight=None,\n",
              "                       criterion='gini', max_depth=None, max_features='auto',\n",
              "                       max_leaf_nodes=None, max_samples=None,\n",
              "                       min_impurity_decrease=0.0, min_impurity_split=None,\n",
              "                       min_samples_leaf=1, min_samples_split=2,\n",
              "                       min_weight_fraction_leaf=0.0, n_estimators=100,\n",
              "                       n_jobs=None, oob_score=False, random_state=0, verbose=0,\n",
              "                       warm_start=False)"
            ]
          },
          "metadata": {
            "tags": []
          },
          "execution_count": 3
        }
      ]
    },
    {
      "cell_type": "code",
      "metadata": {
        "colab": {
          "base_uri": "https://localhost:8080/"
        },
        "id": "T-HauY2MshFb",
        "outputId": "0ea584da-19f5-47cb-af34-bb14a2585ae9"
      },
      "source": [
        "from sklearn.metrics import roc_curve, auc, accuracy_score\n",
        "\n",
        "pred = clf.predict(X_test)\n",
        "fpr, tpr, thresholds = roc_curve(test_label, pred, pos_label=1)\n",
        "print('auc:', auc(fpr, tpr))\n",
        "print('accuracy:', accuracy_score(pred, test_label))"
      ],
      "execution_count": 4,
      "outputs": [
        {
          "output_type": "stream",
          "text": [
            "auc: 0.5454545454545454\n",
            "accuracy: 1.0\n"
          ],
          "name": "stdout"
        }
      ]
    },
    {
      "cell_type": "code",
      "metadata": {
        "colab": {
          "base_uri": "https://localhost:8080/",
          "height": 374
        },
        "id": "T4D4SsJrtDRp",
        "outputId": "208a6f38-3193-4e1f-b56f-9dafc47c4254"
      },
      "source": [
        "features = np.array(data.feature_names)\n",
        "importances = clf.feature_importances_\n",
        "indices = np.argsort(importances)\n",
        "\n",
        "plt.figure(figsize=(6,6))\n",
        "plt.barh(range(len(indices)), importances[indices], color='b', align='center')\n",
        "plt.yticks(range(len(indices)), features[indices])\n",
        "plt.show()"
      ],
      "execution_count": 5,
      "outputs": [
        {
          "output_type": "display_data",
          "data": {
            "image/png": "[encoded data removed]",
            "text/plain": [
              "<Figure size 432x432 with 1 Axes>"
            ]
          },
          "metadata": {
            "tags": [],
            "needs_background": "light"
          }
        }
      ]
    }
  ]
}