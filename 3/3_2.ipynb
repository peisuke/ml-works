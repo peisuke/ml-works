{
  "nbformat": 4,
  "nbformat_minor": 0,
  "metadata": {
    "colab": {
      "name": "3_2.ipynb",
      "provenance": [],
      "authorship_tag": "ABX9TyN8KFXhiv3LH2c4gRdJDghr",
      "include_colab_link": true
    },
    "kernelspec": {
      "name": "python3",
      "display_name": "Python 3"
    }
  },
  "cells": [
    {
      "cell_type": "markdown",
      "metadata": {
        "id": "view-in-github",
        "colab_type": "text"
      },
      "source": [
        "<a href=\"https://colab.research.google.com/github/peisuke/ml-works/blob/main/3/3_2.ipynb\" target=\"_parent\"><img src=\"https://colab.research.google.com/assets/colab-badge.svg\" alt=\"Open In Colab\"/></a>"
      ]
    },
    {
      "cell_type": "code",
      "metadata": {
        "id": "BR-y9H_LisBr"
      },
      "source": [
        "import numpy as np\n",
        "from pylab import *\n",
        "import sys"
      ],
      "execution_count": 1,
      "outputs": []
    },
    {
      "cell_type": "code",
      "metadata": {
        "id": "MAVEofHWiuph"
      },
      "source": [
        "K = 2    # 2クラス分類\n",
        "N = 100  # データ数"
      ],
      "execution_count": 2,
      "outputs": []
    },
    {
      "cell_type": "code",
      "metadata": {
        "id": "VUaY1qW7iyIz"
      },
      "source": [
        "def f(x1, W_t):\n",
        "    # 決定境界の直線の方程式\n",
        "    a = - ((W_t[0,1]-W_t[1,1]) / (W_t[0,2]-W_t[1,2]))\n",
        "    b = - (W_t[0,0]-W_t[1,0])/(W_t[0,2]-W_t[1,2])\n",
        "    return a * x1 + b"
      ],
      "execution_count": 3,
      "outputs": []
    },
    {
      "cell_type": "code",
      "metadata": {
        "id": "pGSCd0lIizrx"
      },
      "source": [
        "# 訓練データを作成\n",
        "cls1 = []\n",
        "cls2 = []\n",
        "\n",
        "# データは正規分布に従って生成\n",
        "mean1 = [-1, 2]  # クラス1の平均\n",
        "mean2 = [1, -1]  # クラス2の平均\n",
        "cov = [[1.0,0.8], [0.8,1.0]]  # 共分散行列（全クラス共通）\n",
        "\n",
        "# ノイズなしデータ\n",
        "cls1.extend(np.random.multivariate_normal(mean1, cov, N//2))\n",
        "cls2.extend(np.random.multivariate_normal(mean2, cov, N//2))\n",
        "\n",
        "# データ行列Xを作成\n",
        "temp = vstack((cls1, cls2))\n",
        "temp2 = ones((N, 1))  # バイアスw_0用に1を追加\n",
        "X = hstack((temp2, temp))\n",
        "\n",
        "# ラベル行列T（1-of-K表記）を作成\n",
        "T = []\n",
        "for i in range(N//2):\n",
        "    T.append(array([1, 0]))  # クラス1\n",
        "for i in range(N//2):\n",
        "    T.append(array([0, 1]))  # クラス2\n",
        "T = array(T)"
      ],
      "execution_count": 4,
      "outputs": []
    },
    {
      "cell_type": "code",
      "metadata": {
        "colab": {
          "base_uri": "https://localhost:8080/"
        },
        "id": "xRSarcEOi-HK",
        "outputId": "443c4ac4-70d7-41b9-b4d7-9184f751fbca"
      },
      "source": [
        "# パラメータ行列Wを最小二乗法で計算（式4.16）\n",
        "X_t = np.transpose(X)\n",
        "temp = np.linalg.inv(np.dot(X_t, X))  # 行列の積はnp.dot(A, B)\n",
        "W = np.dot(np.dot(temp, X_t), T)\n",
        "W_t = np.transpose(W)\n",
        "print(W_t)"
      ],
      "execution_count": 5,
      "outputs": [
        {
          "output_type": "stream",
          "text": [
            "[[ 0.41327658 -0.16553714  0.19704481]\n",
            " [ 0.58672342  0.16553714 -0.19704481]]\n"
          ],
          "name": "stdout"
        }
      ]
    },
    {
      "cell_type": "code",
      "metadata": {
        "colab": {
          "base_uri": "https://localhost:8080/",
          "height": 269
        },
        "id": "79JeDkp-jERh",
        "outputId": "7b5e9072-6dcc-43f5-ca1f-4e0b1634cfad"
      },
      "source": [
        "# 訓練データを描画\n",
        "x1, x2 = np.transpose(np.array(cls1))\n",
        "plot(x1, x2, 'rx')\n",
        "\n",
        "x1, x2 = np.transpose(np.array(cls2))\n",
        "plot(x1, x2, 'bo')\n",
        "\n",
        "# 識別境界を描画\n",
        "x1 = np.linspace(-4, 8, 1000)\n",
        "x2 = [f(x, W_t) for x in x1]\n",
        "plot(x1, x2, 'g-')\n",
        "\n",
        "xlim(-4, 8)\n",
        "ylim(-8, 4)\n",
        "show()"
      ],
      "execution_count": 6,
      "outputs": [
        {
          "output_type": "display_data",
          "data": {
            "image/png": "[encoded data removed]",
            "text/plain": [
              "<Figure size 432x288 with 1 Axes>"
            ]
          },
          "metadata": {
            "tags": [],
            "needs_background": "light"
          }
        }
      ]
    },
    {
      "cell_type": "code",
      "metadata": {
        "id": "iL5XlplwjXhH"
      },
      "source": [
        " # 訓練データを作成\n",
        "cls1 = []\n",
        "cls2 = []\n",
        "\n",
        "mean1 = [-1, 2]  # クラス1の平均\n",
        "mean2 = [1, -1]  # クラス2の平均\n",
        "mean3 = [8, -6]  # クラス2のノイズデータの平均\n",
        "cov = [[1.0,0.8], [0.8,1.0]]  # 共分散行列（全クラス共通）\n",
        "\n",
        "# ノイズありデータ\n",
        "cls1.extend(np.random.multivariate_normal(mean1, cov, N//2))\n",
        "cls2.extend(np.random.multivariate_normal(mean2, cov, N//2-20))\n",
        "cls2.extend(np.random.multivariate_normal(mean3, cov, 20))  # 20個だけクラス2にノイズデータ追加\n",
        "\n",
        "# データ行列Xを作成\n",
        "temp = vstack((cls1, cls2))\n",
        "temp2 = ones((N, 1))  # バイアスw_0用に1を追加\n",
        "X = hstack((temp2, temp))\n",
        "\n",
        "# ラベル行列T（1-of-K表記）を作成\n",
        "T = []\n",
        "for i in range(N//2):\n",
        "    T.append(array([1, 0]))  # クラス1\n",
        "for i in range(N//2):\n",
        "    T.append(array([0, 1]))  # クラス2\n",
        "T = array(T)"
      ],
      "execution_count": 7,
      "outputs": []
    },
    {
      "cell_type": "code",
      "metadata": {
        "colab": {
          "base_uri": "https://localhost:8080/"
        },
        "id": "6TXGwJODjadE",
        "outputId": "fd1425b9-e32e-4276-c324-018667d174c5"
      },
      "source": [
        "# パラメータ行列Wを最小二乗法で計算（式4.16）\n",
        "X_t = np.transpose(X)\n",
        "temp = np.linalg.inv(np.dot(X_t, X))  # 行列の積はnp.dot(A, B)\n",
        "W = np.dot(np.dot(temp, X_t), T)\n",
        "W_t = np.transpose(W)\n",
        "print(W_t)"
      ],
      "execution_count": 8,
      "outputs": [
        {
          "output_type": "stream",
          "text": [
            "[[ 0.55152281  0.01285513  0.13724052]\n",
            " [ 0.44847719 -0.01285513 -0.13724052]]\n"
          ],
          "name": "stdout"
        }
      ]
    },
    {
      "cell_type": "code",
      "metadata": {
        "colab": {
          "base_uri": "https://localhost:8080/",
          "height": 269
        },
        "id": "qlyXqjssjfPQ",
        "outputId": "fafd1134-ab61-4be1-95b6-8571fbb3ac84"
      },
      "source": [
        "# 訓練データを描画\n",
        "x1, x2 = np.transpose(np.array(cls1))\n",
        "plot(x1, x2, 'rx')\n",
        "\n",
        "x1, x2 = np.transpose(np.array(cls2))\n",
        "plot(x1, x2, 'bo')\n",
        "\n",
        "# 識別境界を描画\n",
        "x1 = np.linspace(-4, 8, 1000)\n",
        "x2 = [f(x, W_t) for x in x1]\n",
        "plot(x1, x2, 'g-')\n",
        "\n",
        "xlim(-4, 8)\n",
        "ylim(-8, 4)\n",
        "show()"
      ],
      "execution_count": 9,
      "outputs": [
        {
          "output_type": "display_data",
          "data": {
            "image/png": "[encoded data removed]",
            "text/plain": [
              "<Figure size 432x288 with 1 Axes>"
            ]
          },
          "metadata": {
            "tags": [],
            "needs_background": "light"
          }
        }
      ]
    }
  ]
}