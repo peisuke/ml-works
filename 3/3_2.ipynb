{
  "nbformat": 4,
  "nbformat_minor": 0,
  "metadata": {
    "colab": {
      "name": "3_2.ipynb",
      "provenance": [],
      "authorship_tag": "ABX9TyMxFW7cdZqLGMlCUa7NktV3",
      "include_colab_link": true
    },
    "kernelspec": {
      "name": "python3",
      "display_name": "Python 3"
    }
  },
  "cells": [
    {
      "cell_type": "markdown",
      "metadata": {
        "id": "view-in-github",
        "colab_type": "text"
      },
      "source": [
        "<a href=\"https://colab.research.google.com/github/peisuke/ml-works/blob/main/3/3_2.ipynb\" target=\"_parent\"><img src=\"https://colab.research.google.com/assets/colab-badge.svg\" alt=\"Open In Colab\"/></a>"
      ]
    },
    {
      "cell_type": "markdown",
      "metadata": {
        "id": "IKAWHNgYul3y"
      },
      "source": [
        "# 3.1 最小２乗法を用いたクラス分類\n",
        "- 目的\n",
        "    - 最小２乗法を用いた分類の特性を学ぶ\n",
        "- 内容\n",
        "    - まずはノイズのないデータに対して分類を行う\n",
        "    - 次に外れ値のあるデータに対して分類を行う\n",
        "- 参考\n",
        "    - 本コードは以下のサイトを参考にしました\n",
        "    - https://aidiary.hatenablog.com/entry/20100424/1272075531"
      ]
    },
    {
      "cell_type": "code",
      "metadata": {
        "id": "BR-y9H_LisBr"
      },
      "source": [
        "import numpy as np\n",
        "from pylab import *\n",
        "import sys"
      ],
      "execution_count": 1,
      "outputs": []
    },
    {
      "cell_type": "code",
      "metadata": {
        "id": "MAVEofHWiuph"
      },
      "source": [
        "# Kをクラス数、Nをデータ数とする\n",
        "K = 2\n",
        "N = 100"
      ],
      "execution_count": 2,
      "outputs": []
    },
    {
      "cell_type": "code",
      "metadata": {
        "id": "VUaY1qW7iyIz"
      },
      "source": [
        "# 最小2乗法で計算したパラメータを用いて、xに対応するyの値を返す\n",
        "def f(x1, W_t):\n",
        "    # 決定境界の直線の方程式\n",
        "    a = - ((W_t[0,1]-W_t[1,1]) / (W_t[0,2]-W_t[1,2]))\n",
        "    b = - (W_t[0,0]-W_t[1,0])/(W_t[0,2]-W_t[1,2])\n",
        "    return a * x1 + b"
      ],
      "execution_count": 3,
      "outputs": []
    },
    {
      "cell_type": "markdown",
      "source": [
        "## ノイズなしデータでの実験"
      ],
      "metadata": {
        "id": "s8Ws3DrM3YKu"
      }
    },
    {
      "cell_type": "code",
      "metadata": {
        "id": "pGSCd0lIizrx"
      },
      "source": [
        "# 訓練データを作成\n",
        "cls1 = []\n",
        "cls2 = []\n",
        "\n",
        "# データは正規分布に従って生成\n",
        "mean1 = [-1, 2]  # クラス1の平均\n",
        "mean2 = [1, -1]  # クラス2の平均\n",
        "cov = [[1.0,0.8], [0.8,1.0]]\n",
        "\n",
        "# ノイズなしデータ\n",
        "cls1.extend(np.random.multivariate_normal(mean1, cov, N//2))\n",
        "cls2.extend(np.random.multivariate_normal(mean2, cov, N//2))\n",
        "\n",
        "# データ行列Xを作成\n",
        "temp = vstack((cls1, cls2))\n",
        "temp2 = ones((N, 1))  # バイアスw_0用に1を追加\n",
        "X = hstack((temp2, temp))\n",
        "\n",
        "# ラベル行列T（1-of-K表記）を作成\n",
        "T = []\n",
        "for i in range(N//2):\n",
        "    T.append(array([1, 0]))  # クラス1\n",
        "for i in range(N//2):\n",
        "    T.append(array([0, 1]))  # クラス2\n",
        "T = array(T)"
      ],
      "execution_count": 4,
      "outputs": []
    },
    {
      "cell_type": "code",
      "source": [
        "# 訓練データを表示\n",
        "plot(np.array(cls1)[:,0], np.array(cls1)[:,1], 'rx')\n",
        "plot(np.array(cls2)[:,0], np.array(cls2)[:,1], 'bo')\n",
        "xlim(-4, 8)\n",
        "ylim(-8, 4)\n",
        "show()"
      ],
      "metadata": {
        "id": "u6jm6QJD06RI",
        "outputId": "b2322ea3-686e-40a2-9472-f8e02326de4d",
        "colab": {
          "base_uri": "https://localhost:8080/",
          "height": 269
        }
      },
      "execution_count": 5,
      "outputs": [
        {
          "output_type": "display_data",
          "data": {
            "image/png": "[encoded data removed]",
            "text/plain": [
              "<Figure size 432x288 with 1 Axes>"
            ]
          },
          "metadata": {
            "needs_background": "light"
          }
        }
      ]
    },
    {
      "cell_type": "code",
      "metadata": {
        "colab": {
          "base_uri": "https://localhost:8080/"
        },
        "id": "xRSarcEOi-HK",
        "outputId": "dd290af3-8cc4-46c6-ec76-d0e2a6f13373"
      },
      "source": [
        "# パラメータ行列Wを最小二乗法で計算\n",
        "# 第2回講座の多次元での線形回帰における最小二乗法の計算(p.38)より\n",
        "X_t = np.transpose(X) # Xの転置をX_tとする\n",
        "temp = np.linalg.inv(np.dot(X_t, X)) # X_tとXの内積\n",
        "W = np.dot(np.dot(temp, X_t), T)\n",
        "W_t = np.transpose(W)\n",
        "print(W_t)"
      ],
      "execution_count": 6,
      "outputs": [
        {
          "output_type": "stream",
          "name": "stdout",
          "text": [
            "[[ 0.40654869 -0.1989354   0.17870972]\n",
            " [ 0.59345131  0.1989354  -0.17870972]]\n"
          ]
        }
      ]
    },
    {
      "cell_type": "code",
      "metadata": {
        "colab": {
          "base_uri": "https://localhost:8080/",
          "height": 269
        },
        "id": "79JeDkp-jERh",
        "outputId": "ec814fe4-7726-4243-9c58-35e8a6cd27c1"
      },
      "source": [
        "# 訓練データを描画\n",
        "x1, x2 = np.transpose(np.array(cls1))\n",
        "plot(x1, x2, 'rx')\n",
        "\n",
        "x1, x2 = np.transpose(np.array(cls2))\n",
        "plot(x1, x2, 'bo')\n",
        "\n",
        "# 識別境界を描画\n",
        "# ノイズの無いデータの場合は、適切に境界を決定できる\n",
        "x1 = np.linspace(-4, 8, 1000)\n",
        "x2 = [f(x, W_t) for x in x1]\n",
        "plot(x1, x2, 'g-')\n",
        "\n",
        "xlim(-4, 8)\n",
        "ylim(-8, 4)\n",
        "show()"
      ],
      "execution_count": 7,
      "outputs": [
        {
          "output_type": "display_data",
          "data": {
            "image/png": "[encoded data removed]",
            "text/plain": [
              "<Figure size 432x288 with 1 Axes>"
            ]
          },
          "metadata": {
            "needs_background": "light"
          }
        }
      ]
    },
    {
      "cell_type": "markdown",
      "source": [
        "## ノイズありデータでの実験"
      ],
      "metadata": {
        "id": "yS82rXll3UXv"
      }
    },
    {
      "cell_type": "code",
      "metadata": {
        "id": "iL5XlplwjXhH"
      },
      "source": [
        " # 訓練データを作成\n",
        "cls1 = []\n",
        "cls2 = []\n",
        "\n",
        "mean1 = [-1, 2]  # クラス1の平均\n",
        "mean2 = [1, -1]  # クラス2の平均\n",
        "mean3 = [8, -6]  # クラス2のノイズデータの平均\n",
        "cov = [[1.0,0.8], [0.8,1.0]] \n",
        "\n",
        "# ノイズありデータ\n",
        "cls1.extend(np.random.multivariate_normal(mean1, cov, N//2))\n",
        "cls2.extend(np.random.multivariate_normal(mean2, cov, N//2-20))\n",
        "cls2.extend(np.random.multivariate_normal(mean3, cov, 20))  # 20個だけクラス2にノイズデータ追加\n",
        "\n",
        "# データ行列Xを作成\n",
        "temp = vstack((cls1, cls2))\n",
        "temp2 = ones((N, 1))  # バイアスw_0用に1を追加\n",
        "X = hstack((temp2, temp))\n",
        "\n",
        "# ラベル行列T（1-of-K表記）を作成\n",
        "T = []\n",
        "for i in range(N//2):\n",
        "    T.append(array([1, 0]))  # クラス1\n",
        "for i in range(N//2):\n",
        "    T.append(array([0, 1]))  # クラス2\n",
        "T = array(T)"
      ],
      "execution_count": 8,
      "outputs": []
    },
    {
      "cell_type": "code",
      "metadata": {
        "colab": {
          "base_uri": "https://localhost:8080/"
        },
        "id": "6TXGwJODjadE",
        "outputId": "bed890c8-e713-469e-b60f-dafe9fc99c48"
      },
      "source": [
        "# 先程と同様にパラメータ行列Wを最小二乗法で計算\n",
        "X_t = np.transpose(X)\n",
        "temp = np.linalg.inv(np.dot(X_t, X))\n",
        "W = np.dot(np.dot(temp, X_t), T)\n",
        "W_t = np.transpose(W)\n",
        "print(W_t)"
      ],
      "execution_count": 9,
      "outputs": [
        {
          "output_type": "stream",
          "name": "stdout",
          "text": [
            "[[ 0.60055352 -0.02312304  0.10409539]\n",
            " [ 0.39944648  0.02312304 -0.10409539]]\n"
          ]
        }
      ]
    },
    {
      "cell_type": "code",
      "metadata": {
        "colab": {
          "base_uri": "https://localhost:8080/",
          "height": 269
        },
        "id": "qlyXqjssjfPQ",
        "outputId": "e7fbd7ba-15ee-4f50-8334-5eb2f0e1b86a"
      },
      "source": [
        "# 訓練データを描画\n",
        "x1, x2 = np.transpose(np.array(cls1))\n",
        "plot(x1, x2, 'rx')\n",
        "\n",
        "x1, x2 = np.transpose(np.array(cls2))\n",
        "plot(x1, x2, 'bo')\n",
        "\n",
        "# 識別境界を描画\n",
        "# データがノイズを持つ場合、分類境界が適切に計算できない\n",
        "x1 = np.linspace(-4, 8, 1000)\n",
        "x2 = [f(x, W_t) for x in x1]\n",
        "plot(x1, x2, 'g-')\n",
        "\n",
        "xlim(-4, 8)\n",
        "ylim(-8, 4)\n",
        "show()"
      ],
      "execution_count": 10,
      "outputs": [
        {
          "output_type": "display_data",
          "data": {
            "image/png": "[encoded data removed]",
            "text/plain": [
              "<Figure size 432x288 with 1 Axes>"
            ]
          },
          "metadata": {
            "needs_background": "light"
          }
        }
      ]
    }
  ]
}