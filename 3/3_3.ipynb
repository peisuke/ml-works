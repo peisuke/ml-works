{
  "nbformat": 4,
  "nbformat_minor": 0,
  "metadata": {
    "colab": {
      "name": "3_3.ipynb",
      "provenance": [],
      "authorship_tag": "ABX9TyOzYs/Uz1c+3rrNnQhR9sei",
      "include_colab_link": true
    },
    "kernelspec": {
      "name": "python3",
      "display_name": "Python 3"
    }
  },
  "cells": [
    {
      "cell_type": "markdown",
      "metadata": {
        "id": "view-in-github",
        "colab_type": "text"
      },
      "source": [
        "<a href=\"https://colab.research.google.com/github/peisuke/ml-works/blob/main/3/3_3.ipynb\" target=\"_parent\"><img src=\"https://colab.research.google.com/assets/colab-badge.svg\" alt=\"Open In Colab\"/></a>"
      ]
    },
    {
      "cell_type": "markdown",
      "metadata": {
        "id": "c-hw4WGeuLQX"
      },
      "source": [
        "# 3.1 最小２乗法を用いたクラス分類\n",
        "- 目的\n",
        "    - ロジスティック回帰を用いた分類の特性を学ぶ\n",
        "- 内容\n",
        "    - まずはノイズのないデータに対して分類を行う\n",
        "    - 次に外れ値のあるデータに対して分類を行う"
      ]
    },
    {
      "cell_type": "code",
      "metadata": {
        "id": "lKQq-PdHjqTe"
      },
      "source": [
        "from sklearn.model_selection import train_test_split\n",
        "from sklearn.preprocessing import StandardScaler\n",
        "from sklearn.linear_model import LogisticRegression\n",
        "import matplotlib.pyplot as plt\n",
        "import numpy as np\n",
        "from pylab import *"
      ],
      "execution_count": 1,
      "outputs": []
    },
    {
      "cell_type": "code",
      "source": [
        "# Kをクラス数、Nをデータ数とする\n",
        "K = 2\n",
        "N = 100"
      ],
      "metadata": {
        "id": "Qocr8OmF5Qdl"
      },
      "execution_count": 2,
      "outputs": []
    },
    {
      "cell_type": "markdown",
      "source": [
        "## ノイズなしデータでの実験"
      ],
      "metadata": {
        "id": "X21tACkC5W_e"
      }
    },
    {
      "cell_type": "code",
      "metadata": {
        "id": "Mwu-Quw9jw8b"
      },
      "source": [
        "# 訓練データを作成\n",
        "cls1 = []\n",
        "cls2 = []\n",
        "\n",
        "# データは正規分布に従って生成\n",
        "mean1 = [-1, 2]  # クラス1の平均\n",
        "mean2 = [1, -1]  # クラス2の平均\n",
        "cov = [[1.0,0.8], [0.8,1.0]]\n",
        "\n",
        "# ノイズなしデータ\n",
        "cls1.extend(np.random.multivariate_normal(mean1, cov, N//2))\n",
        "cls2.extend(np.random.multivariate_normal(mean2, cov, N//2))\n",
        "\n",
        "# データ行列Xを作成\n",
        "X = vstack((cls1, cls2))\n",
        "\n",
        "# 正解データを作成\n",
        "y_0 = np.zeros(len(cls1))\n",
        "y_1 = np.ones(len(cls2))\n",
        "y = np.append(y_0, y_1)"
      ],
      "execution_count": 3,
      "outputs": []
    },
    {
      "cell_type": "code",
      "metadata": {
        "colab": {
          "base_uri": "https://localhost:8080/",
          "height": 269
        },
        "id": "mkYwoOVykAHC",
        "outputId": "c3b67e83-5cdd-40da-eeab-8d948d2f7887"
      },
      "source": [
        "# 訓練データを表示\n",
        "plot(np.array(cls1)[:,0], np.array(cls1)[:,1], 'rx')\n",
        "plot(np.array(cls2)[:,0], np.array(cls2)[:,1], 'bo')\n",
        "xlim(-4, 8)\n",
        "ylim(-8, 4)\n",
        "show()"
      ],
      "execution_count": 4,
      "outputs": [
        {
          "output_type": "display_data",
          "data": {
            "image/png": "[encoded data removed]",
            "text/plain": [
              "<Figure size 432x288 with 1 Axes>"
            ]
          },
          "metadata": {
            "needs_background": "light"
          }
        }
      ]
    },
    {
      "cell_type": "code",
      "metadata": {
        "colab": {
          "base_uri": "https://localhost:8080/"
        },
        "id": "XIwMu5tjkA88",
        "outputId": "12ccfb87-50c0-42e3-c810-3b2032174fbc"
      },
      "source": [
        "# 訓練\n",
        "lr = LogisticRegression()\n",
        "lr.fit(X, y)"
      ],
      "execution_count": 5,
      "outputs": [
        {
          "output_type": "execute_result",
          "data": {
            "text/plain": [
              "LogisticRegression()"
            ]
          },
          "metadata": {},
          "execution_count": 5
        }
      ]
    },
    {
      "cell_type": "code",
      "metadata": {
        "colab": {
          "base_uri": "https://localhost:8080/"
        },
        "id": "si82ALbMkJnD",
        "outputId": "66ff5afd-7f3d-48d1-86a0-6ccf638fc4ea"
      },
      "source": [
        "print(lr.intercept_)\n",
        "print(lr.coef_)\n",
        " \n",
        "w_0 = lr.intercept_[0]\n",
        "w_1 = lr.coef_[0,0]\n",
        "w_2 = lr.coef_[0,1]\n",
        "print(w_0, w_1, w_2)"
      ],
      "execution_count": 6,
      "outputs": [
        {
          "output_type": "stream",
          "name": "stdout",
          "text": [
            "[0.73130701]\n",
            "[[ 1.73340746 -1.94183568]]\n",
            "0.7313070149309531 1.7334074619234137 -1.9418356849545897\n"
          ]
        }
      ]
    },
    {
      "cell_type": "code",
      "metadata": {
        "colab": {
          "base_uri": "https://localhost:8080/",
          "height": 269
        },
        "id": "qLWWmp3KkPeo",
        "outputId": "865e8af9-6f50-46c2-b2d0-8c58822e0b7c"
      },
      "source": [
        "# 境界線 プロット\n",
        "plt.plot([-4,8], list(map(lambda x: (-w_1 * x - w_0)/w_2, [-4,8])))\n",
        " \n",
        "# データを重ねる\n",
        "plot(np.array(cls1)[:,0], np.array(cls1)[:,1], 'rx')\n",
        "plot(np.array(cls2)[:,0], np.array(cls2)[:,1], 'bo')\n",
        "xlim(-4, 8)\n",
        "ylim(-8, 4)\n",
        "show()"
      ],
      "execution_count": 7,
      "outputs": [
        {
          "output_type": "display_data",
          "data": {
            "image/png": "[encoded data removed]",
            "text/plain": [
              "<Figure size 432x288 with 1 Axes>"
            ]
          },
          "metadata": {
            "needs_background": "light"
          }
        }
      ]
    },
    {
      "cell_type": "markdown",
      "source": [
        "## ノイズありデータでの実験"
      ],
      "metadata": {
        "id": "yW7XZZwD7bHL"
      }
    },
    {
      "cell_type": "code",
      "source": [
        "# 訓練データを作成\n",
        "cls1 = []\n",
        "cls2 = []\n",
        "\n",
        "mean1 = [-1, 2]  # クラス1の平均\n",
        "mean2 = [1, -1]  # クラス2の平均\n",
        "mean3 = [8, -6]  # クラス2のノイズデータの平均\n",
        "cov = [[1.0,0.8], [0.8,1.0]] \n",
        "\n",
        "# ノイズありデータ\n",
        "cls1.extend(np.random.multivariate_normal(mean1, cov, N//2))\n",
        "cls2.extend(np.random.multivariate_normal(mean2, cov, N//2-20))\n",
        "cls2.extend(np.random.multivariate_normal(mean3, cov, 20))  # 20個だけクラス2にノイズデータ追加\n",
        "\n",
        "# データ行列Xを作成\n",
        "X = vstack((cls1, cls2))\n",
        "\n",
        "# 正解データを作成\n",
        "y_0 = np.zeros(len(cls1))\n",
        "y_1 = np.ones(len(cls2))\n",
        "y = np.append(y_0, y_1)"
      ],
      "metadata": {
        "id": "PZ_zZ4_26BGr"
      },
      "execution_count": 8,
      "outputs": []
    },
    {
      "cell_type": "code",
      "source": [
        "# 訓練\n",
        "lr = LogisticRegression()\n",
        "lr.fit(X, y)"
      ],
      "metadata": {
        "id": "RJ8KHuB87lKa",
        "outputId": "50baf1c6-0447-4074-a036-0a4c81bd89f3",
        "colab": {
          "base_uri": "https://localhost:8080/"
        }
      },
      "execution_count": 9,
      "outputs": [
        {
          "output_type": "execute_result",
          "data": {
            "text/plain": [
              "LogisticRegression()"
            ]
          },
          "metadata": {},
          "execution_count": 9
        }
      ]
    },
    {
      "cell_type": "code",
      "source": [
        "print(lr.intercept_)\n",
        "print(lr.coef_)\n",
        " \n",
        "w_0 = lr.intercept_[0]\n",
        "w_1 = lr.coef_[0,0]\n",
        "w_2 = lr.coef_[0,1]\n",
        "print(w_0, w_1, w_2)"
      ],
      "metadata": {
        "id": "rdWxZWJ87m2N",
        "outputId": "12ff23cb-0b2b-4c1e-91d4-c700963609fb",
        "colab": {
          "base_uri": "https://localhost:8080/"
        }
      },
      "execution_count": 10,
      "outputs": [
        {
          "output_type": "stream",
          "name": "stdout",
          "text": [
            "[0.31760265]\n",
            "[[ 1.64302144 -1.74054889]]\n",
            "0.31760265467273024 1.6430214382943245 -1.740548886708607\n"
          ]
        }
      ]
    },
    {
      "cell_type": "code",
      "source": [
        "# 境界線 プロット\n",
        "plt.plot([-4,8], list(map(lambda x: (-w_1 * x - w_0)/w_2, [-4,8])))\n",
        " \n",
        "# データを重ねる\n",
        "plot(np.array(cls1)[:,0], np.array(cls1)[:,1], 'rx')\n",
        "plot(np.array(cls2)[:,0], np.array(cls2)[:,1], 'bo')\n",
        "xlim(-4, 8)\n",
        "ylim(-8, 4)\n",
        "show()"
      ],
      "metadata": {
        "id": "Aj9pGYCU7oEN",
        "outputId": "095490f4-4459-47d7-eaef-146ebf283cb9",
        "colab": {
          "base_uri": "https://localhost:8080/",
          "height": 269
        }
      },
      "execution_count": 11,
      "outputs": [
        {
          "output_type": "display_data",
          "data": {
            "image/png": "[encoded data removed]",
            "text/plain": [
              "<Figure size 432x288 with 1 Axes>"
            ]
          },
          "metadata": {
            "needs_background": "light"
          }
        }
      ]
    }
  ]
}