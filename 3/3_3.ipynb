{
  "nbformat": 4,
  "nbformat_minor": 0,
  "metadata": {
    "colab": {
      "name": "3_3.ipynb",
      "provenance": [],
      "authorship_tag": "ABX9TyOwBQJxlEhUcxeziug0uJG6",
      "include_colab_link": true
    },
    "kernelspec": {
      "name": "python3",
      "display_name": "Python 3"
    }
  },
  "cells": [
    {
      "cell_type": "markdown",
      "metadata": {
        "id": "view-in-github",
        "colab_type": "text"
      },
      "source": [
        "<a href=\"https://colab.research.google.com/github/peisuke/ml-works/blob/main/3/3_3.ipynb\" target=\"_parent\"><img src=\"https://colab.research.google.com/assets/colab-badge.svg\" alt=\"Open In Colab\"/></a>"
      ]
    },
    {
      "cell_type": "code",
      "metadata": {
        "id": "lKQq-PdHjqTe"
      },
      "source": [
        "from sklearn.model_selection import train_test_split\n",
        "from sklearn.preprocessing import StandardScaler\n",
        "from sklearn.linear_model import LogisticRegression\n",
        "import matplotlib.pyplot as plt\n",
        "import numpy as np"
      ],
      "execution_count": 1,
      "outputs": []
    },
    {
      "cell_type": "code",
      "metadata": {
        "id": "Mwu-Quw9jw8b"
      },
      "source": [
        "np.random.seed(seed=0)\n",
        "X_0 = np.random.multivariate_normal( [2,2],  [[2,0],[0,2]],  50 )\n",
        "y_0 = np.zeros(len(X_0))\n",
        " \n",
        "X_1 = np.random.multivariate_normal( [6,7],  [[3,0],[0,3]],  50 )\n",
        "y_1 = np.ones(len(X_1))\n",
        " \n",
        "X = np.vstack((X_0, X_1))\n",
        "y = np.append(y_0, y_1)\n",
        " \n",
        "X_train, X_test, y_train, y_test = train_test_split(X, y, test_size=0.3)\n",
        " \n",
        "# 特徴データを標準化(平均 0、標準偏差 1)\n",
        "sc = StandardScaler()\n",
        "X_train_std = sc.fit_transform(X_train)\n",
        "X_test_std = sc.transform(X_test)"
      ],
      "execution_count": 2,
      "outputs": []
    },
    {
      "cell_type": "code",
      "metadata": {
        "colab": {
          "base_uri": "https://localhost:8080/",
          "height": 265
        },
        "id": "mkYwoOVykAHC",
        "outputId": "fbe82038-8386-4b92-b95a-00c8eee5bf36"
      },
      "source": [
        "plt.scatter(X_train_std[y_train==0, 0], X_train_std[y_train==0, 1], c='red', marker='x', label='train 0')\n",
        "plt.scatter(X_train_std[y_train==1, 0], X_train_std[y_train==1, 1], c='blue', marker='x', label='train 1')\n",
        "plt.scatter(X_test_std[y_test==0, 0], X_test_std[y_test==0, 1], c='red', marker='o', s=60, label='test 0')\n",
        "plt.scatter(X_test_std[y_test==1, 0], X_test_std[y_test==1, 1], c='blue', marker='o', s=60, label='test 1')\n",
        " \n",
        "plt.legend(loc='upper left')\n",
        "plt.show()"
      ],
      "execution_count": 3,
      "outputs": [
        {
          "output_type": "display_data",
          "data": {
            "image/png": "[encoded data removed]",
            "text/plain": [
              "<Figure size 432x288 with 1 Axes>"
            ]
          },
          "metadata": {
            "tags": [],
            "needs_background": "light"
          }
        }
      ]
    },
    {
      "cell_type": "code",
      "metadata": {
        "colab": {
          "base_uri": "https://localhost:8080/"
        },
        "id": "XIwMu5tjkA88",
        "outputId": "943312d2-eead-49e2-86f1-a7a015377d49"
      },
      "source": [
        "# 訓練\n",
        "lr = LogisticRegression()\n",
        "lr.fit(X_train_std, y_train)"
      ],
      "execution_count": 4,
      "outputs": [
        {
          "output_type": "execute_result",
          "data": {
            "text/plain": [
              "LogisticRegression(C=1.0, class_weight=None, dual=False, fit_intercept=True,\n",
              "                   intercept_scaling=1, l1_ratio=None, max_iter=100,\n",
              "                   multi_class='auto', n_jobs=None, penalty='l2',\n",
              "                   random_state=None, solver='lbfgs', tol=0.0001, verbose=0,\n",
              "                   warm_start=False)"
            ]
          },
          "metadata": {
            "tags": []
          },
          "execution_count": 4
        }
      ]
    },
    {
      "cell_type": "code",
      "metadata": {
        "colab": {
          "base_uri": "https://localhost:8080/"
        },
        "id": "UdERAbiFkFae",
        "outputId": "3bcf1dd3-c981-4d24-88b3-5d73e23988b1"
      },
      "source": [
        "# テストデータ 30個を分類\n",
        "print (lr.predict(X_test_std))\n",
        " \n",
        "# 精度を確認\n",
        "print (lr.score(X_test_std, y_test))"
      ],
      "execution_count": 5,
      "outputs": [
        {
          "output_type": "stream",
          "text": [
            "[0. 0. 0. 1. 1. 0. 0. 1. 0. 0. 1. 0. 1. 1. 1. 0. 1. 1. 1. 1. 1. 0. 0. 0.\n",
            " 0. 0. 0. 0. 0. 1.]\n",
            "0.9666666666666667\n"
          ],
          "name": "stdout"
        }
      ]
    },
    {
      "cell_type": "code",
      "metadata": {
        "colab": {
          "base_uri": "https://localhost:8080/"
        },
        "id": "si82ALbMkJnD",
        "outputId": "df4b9fab-94ea-480f-ffe0-2bbc627262f9"
      },
      "source": [
        "print (lr.intercept_)\n",
        "print (lr.coef_)\n",
        " \n",
        "w_0 = lr.intercept_[0]\n",
        "w_1 = lr.coef_[0,0]\n",
        "w_2 = lr.coef_[0,1]\n",
        "print(w_0, w_1, w_2)"
      ],
      "execution_count": 6,
      "outputs": [
        {
          "output_type": "stream",
          "text": [
            "[0.16354077]\n",
            "[[1.81741397 2.27035468]]\n",
            "0.1635407692957372 1.8174139668075775 2.270354678981028\n"
          ],
          "name": "stdout"
        }
      ]
    },
    {
      "cell_type": "code",
      "metadata": {
        "colab": {
          "base_uri": "https://localhost:8080/",
          "height": 265
        },
        "id": "qLWWmp3KkPeo",
        "outputId": "9f6d49ff-d846-45ba-91db-843c31ae6b19"
      },
      "source": [
        "# 境界線 プロット\n",
        "plt.plot([-2,2], list(map(lambda x: (-w_1 * x - w_0)/w_2, [-2,2])))\n",
        " \n",
        "# データを重ねる\n",
        "plt.scatter(X_train_std[y_train==0, 0], X_train_std[y_train==0, 1], c='red', marker='x', label='train 0')\n",
        "plt.scatter(X_train_std[y_train==1, 0], X_train_std[y_train==1, 1], c='blue', marker='x', label='train 1')\n",
        "plt.scatter(X_test_std[y_test==0, 0], X_test_std[y_test==0, 1], c='red', marker='o', s=60, label='test 0')\n",
        "plt.scatter(X_test_std[y_test==1, 0], X_test_std[y_test==1, 1], c='blue', marker='o', s=60, label='test 1')\n",
        "plt.show()"
      ],
      "execution_count": 7,
      "outputs": [
        {
          "output_type": "display_data",
          "data": {
            "image/png": "[encoded data removed]",
            "text/plain": [
              "<Figure size 432x288 with 1 Axes>"
            ]
          },
          "metadata": {
            "tags": [],
            "needs_background": "light"
          }
        }
      ]
    }
  ]
}