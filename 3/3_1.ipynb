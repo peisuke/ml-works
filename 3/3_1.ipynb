{
  "nbformat": 4,
  "nbformat_minor": 0,
  "metadata": {
    "colab": {
      "name": "3_1.ipynb",
      "provenance": [],
      "include_colab_link": true
    },
    "kernelspec": {
      "name": "python3",
      "display_name": "Python 3"
    }
  },
  "cells": [
    {
      "cell_type": "markdown",
      "metadata": {
        "id": "view-in-github",
        "colab_type": "text"
      },
      "source": [
        "<a href=\"https://colab.research.google.com/github/peisuke/ml-works/blob/main/3/3_1.ipynb\" target=\"_parent\"><img src=\"https://colab.research.google.com/assets/colab-badge.svg\" alt=\"Open In Colab\"/></a>"
      ]
    },
    {
      "cell_type": "markdown",
      "metadata": {
        "id": "6z25xy46vE1l"
      },
      "source": [
        "# 3.1: kNNを用いた分類\n",
        "- 目的\n",
        "    - kNNを用いてデータを分類\n",
        "- 参考\n",
        "    - 本コードは以下のサイトを参考にしました\n",
        "    - https://natsutan.hatenablog.com/entry/20180105/1515129019"
      ]
    },
    {
      "cell_type": "code",
      "metadata": {
        "id": "ux7mmReOgslW"
      },
      "source": [
        "from sklearn import datasets\n",
        "import matplotlib.pyplot as plt\n",
        "import numpy as np\n",
        "import seaborn\n",
        "from matplotlib.colors import ListedColormap\n",
        "\n",
        "from sklearn.model_selection import train_test_split\n",
        "from sklearn.preprocessing import StandardScaler\n",
        "from sklearn.neighbors import KNeighborsClassifier"
      ],
      "execution_count": 1,
      "outputs": []
    },
    {
      "cell_type": "code",
      "metadata": {
        "id": "KADDKR0Ng6xz"
      },
      "source": [
        "# 所定の範囲内の領域において、どのクラスに分類されるかを可視化\n",
        "def plot_decision_regions(X, y, classifier, test_idx=None, resolution=0.02):\n",
        "\n",
        "    # マーカと色の設定\n",
        "    markers = ('s', 'x', 'o', '^', 'v')\n",
        "    colors = ('red', 'blue', 'lightgreen', 'gray', 'cyan')\n",
        "    cmap = ListedColormap(colors[:len(np.unique(y))])\n",
        "\n",
        "    # 予測した分類の境界面の可視化\n",
        "    x1_min, x1_max = X[:, 0].min() - 1, X[:, 0].max() + 1\n",
        "    x2_min, x2_max = X[:, 1].min() - 1, X[:, 1].max() + 1\n",
        "    xx1, xx2 = np.meshgrid(np.arange(x1_min, x1_max, resolution),\n",
        "                           np.arange(x2_min, x2_max, resolution))\n",
        "    Z = classifier.predict(np.array([xx1.ravel(), xx2.ravel()]).T)\n",
        "    Z = Z.reshape(xx1.shape)\n",
        "    plt.contourf(xx1, xx2, Z, alpha=0.4, cmap=cmap)\n",
        "    plt.xlim(xx1.min(), xx1.max())\n",
        "    plt.ylim(xx2.min(), xx2.max())\n",
        "\n",
        "    # 学習データの可視化\n",
        "    for idx, cl in enumerate(np.unique(y)):\n",
        "        plt.scatter(x=X[y == cl, 0], y=X[y == cl, 1],\n",
        "                    alpha=0.8, c=[cmap(idx)],\n",
        "                    marker=markers[idx], label=cl)"
      ],
      "execution_count": 2,
      "outputs": []
    },
    {
      "cell_type": "code",
      "metadata": {
        "id": "oWAQ3lufg1W1"
      },
      "source": [
        "# Irisデータの2,3番目の列を学習データとして利用\n",
        "iris = datasets.load_iris()\n",
        "X = iris.data[:, [2,3]]\n",
        "y = iris.target"
      ],
      "execution_count": 3,
      "outputs": []
    },
    {
      "cell_type": "code",
      "source": [
        "# データを表示、先頭から40個ずつ飛ばしたデータを利用（グラフにおける座標値）\n",
        "print(X[::40])"
      ],
      "metadata": {
        "id": "G1MkuCctywKI",
        "outputId": "f407e977-9f2b-4fae-cce4-47e24ffb633c",
        "colab": {
          "base_uri": "https://localhost:8080/"
        }
      },
      "execution_count": 4,
      "outputs": [
        {
          "output_type": "stream",
          "name": "stdout",
          "text": [
            "[[1.4 0.2]\n",
            " [1.3 0.3]\n",
            " [3.8 1.1]\n",
            " [5.7 2.3]]\n"
          ]
        }
      ]
    },
    {
      "cell_type": "code",
      "source": [
        "# クラスを表示、先頭から40個ずつ飛ばしたデータを利用\n",
        "print(y[::40])"
      ],
      "metadata": {
        "id": "5KHUs3Ldy4Xy",
        "outputId": "10159a6d-a5c5-48bb-da37-fd4fa1576502",
        "colab": {
          "base_uri": "https://localhost:8080/"
        }
      },
      "execution_count": 5,
      "outputs": [
        {
          "output_type": "stream",
          "name": "stdout",
          "text": [
            "[0 0 1 2]\n"
          ]
        }
      ]
    },
    {
      "cell_type": "code",
      "metadata": {
        "id": "4cU2fk1vhEF-"
      },
      "source": [
        "# 学習データを正規化、平均と分散が0,1となるようにする\n",
        "sc = StandardScaler() \n",
        "sc.fit(X)\n",
        "X_std = sc.transform(X)"
      ],
      "execution_count": 6,
      "outputs": []
    },
    {
      "cell_type": "code",
      "metadata": {
        "colab": {
          "base_uri": "https://localhost:8080/"
        },
        "id": "plHRXLjNhHjj",
        "outputId": "c0aa93f2-7051-4129-961e-59c0665e6ce5"
      },
      "source": [
        "# 分類器の学習\n",
        "knn = KNeighborsClassifier(n_neighbors=5, p=2, metric='minkowski')\n",
        "knn.fit(X_std, y)"
      ],
      "execution_count": 7,
      "outputs": [
        {
          "output_type": "execute_result",
          "data": {
            "text/plain": [
              "KNeighborsClassifier()"
            ]
          },
          "metadata": {},
          "execution_count": 7
        }
      ]
    },
    {
      "cell_type": "code",
      "metadata": {
        "colab": {
          "base_uri": "https://localhost:8080/",
          "height": 279
        },
        "id": "EPZ_BWxtiR5f",
        "outputId": "91776405-e0cf-485d-e728-0af05a34999e"
      },
      "source": [
        "# 結果の表示\n",
        "# データとして与えた点以外の領域が、それぞれどのクラスとして予測されるかを可視化\n",
        "plot_decision_regions(X_std, y, classifier=knn, test_idx=range(105, 150))\n",
        "plt.xlabel('petal length (std)')\n",
        "plt.ylabel('petal width (std)')\n",
        "plt.show()"
      ],
      "execution_count": 8,
      "outputs": [
        {
          "output_type": "display_data",
          "data": {
            "image/png": "[encoded data removed]",
            "text/plain": [
              "<Figure size 432x288 with 1 Axes>"
            ]
          },
          "metadata": {
            "needs_background": "light"
          }
        }
      ]
    }
  ]
}