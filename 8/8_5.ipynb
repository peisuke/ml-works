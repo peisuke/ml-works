{
  "nbformat": 4,
  "nbformat_minor": 0,
  "metadata": {
    "colab": {
      "name": "8_5.ipynb",
      "provenance": [],
      "authorship_tag": "ABX9TyPHerIfZUPkWv57EhlgMFNq",
      "include_colab_link": true
    },
    "kernelspec": {
      "name": "python3",
      "display_name": "Python 3"
    }
  },
  "cells": [
    {
      "cell_type": "markdown",
      "metadata": {
        "id": "view-in-github",
        "colab_type": "text"
      },
      "source": [
        "<a href=\"https://colab.research.google.com/github/peisuke/ml-works/blob/main/8/8_5.ipynb\" target=\"_parent\"><img src=\"https://colab.research.google.com/assets/colab-badge.svg\" alt=\"Open In Colab\"/></a>"
      ]
    },
    {
      "cell_type": "markdown",
      "metadata": {
        "id": "QT0iO2QELhj4"
      },
      "source": [
        "- 本コードは以下のサイトを参考にしました\n",
        "- https://hktech.hatenablog.com/entry/2018/10/10/232427"
      ]
    },
    {
      "cell_type": "code",
      "metadata": {
        "id": "AX2QAZzzLN3z"
      },
      "source": [
        "import numpy as np\n",
        "import matplotlib.pyplot as plt\n",
        "from sklearn.neighbors import LocalOutlierFactor\n",
        "from sklearn import datasets"
      ],
      "execution_count": 1,
      "outputs": []
    },
    {
      "cell_type": "code",
      "metadata": {
        "id": "KhS07f-ILbT3"
      },
      "source": [
        "iris = datasets.load_iris()\n",
        "X = iris.data"
      ],
      "execution_count": 2,
      "outputs": []
    },
    {
      "cell_type": "code",
      "metadata": {
        "id": "f9LghjxgLdF3"
      },
      "source": [
        "clf = LocalOutlierFactor(n_neighbors=7, contamination=0.005)\n",
        "pred = clf.fit_predict(X[:, (1, 2)])"
      ],
      "execution_count": 3,
      "outputs": []
    },
    {
      "cell_type": "code",
      "metadata": {
        "colab": {
          "base_uri": "https://localhost:8080/",
          "height": 265
        },
        "id": "GOdh2TADLTvv",
        "outputId": "eb4b0e5d-df55-4805-9c47-f548b67f5655"
      },
      "source": [
        "# 正常データのプロット\n",
        "plt.scatter(X[:,1][np.where(pred > 0)], X[:,2][np.where(pred > 0)])\n",
        "\n",
        "# 異常データのプロット\n",
        "plt.scatter(X[:,1][np.where(pred < 0)], X[:,2][np.where(pred < 0)])\n",
        "plt.show()"
      ],
      "execution_count": 4,
      "outputs": [
        {
          "output_type": "display_data",
          "data": {
            "image/png": "[encoded data removed]",
            "text/plain": [
              "<Figure size 432x288 with 1 Axes>"
            ]
          },
          "metadata": {
            "tags": [],
            "needs_background": "light"
          }
        }
      ]
    },
    {
      "cell_type": "code",
      "metadata": {
        "id": "E-PXJ22wLd7V"
      },
      "source": [
        ""
      ],
      "execution_count": 4,
      "outputs": []
    }
  ]
}