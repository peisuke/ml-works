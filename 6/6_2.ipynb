{
  "nbformat": 4,
  "nbformat_minor": 0,
  "metadata": {
    "colab": {
      "name": "6_2.ipynb",
      "provenance": [],
      "authorship_tag": "ABX9TyPJyKdVcTPCCP04Zca9ytmZ",
      "include_colab_link": true
    },
    "kernelspec": {
      "name": "python3",
      "display_name": "Python 3"
    }
  },
  "cells": [
    {
      "cell_type": "markdown",
      "metadata": {
        "id": "view-in-github",
        "colab_type": "text"
      },
      "source": [
        "<a href=\"https://colab.research.google.com/github/peisuke/ml-works/blob/main/6/6_2.ipynb\" target=\"_parent\"><img src=\"https://colab.research.google.com/assets/colab-badge.svg\" alt=\"Open In Colab\"/></a>"
      ]
    },
    {
      "cell_type": "markdown",
      "metadata": {
        "id": "X8M9CFUt2xNW"
      },
      "source": [
        "# 6.2 Support Vector Machineによる分類\n",
        "- 目的\n",
        "    - SVMを用いた分類の実験\n",
        "- 内容\n",
        "    - ノイズがある場合に関しても分類可能なことを確認する\n",
        "- 参考\n",
        "    - 本コードは以下のサイトを参考にしました\n",
        "    - https://qiita.com/sz_dr/items/f3d6630137b184156a67"
      ]
    },
    {
      "cell_type": "code",
      "metadata": {
        "id": "jZj7A34I2iXx"
      },
      "source": [
        "import numpy as np\n",
        "from sklearn import svm, datasets\n",
        "import matplotlib.pyplot as plt\n",
        "from itertools import product"
      ],
      "execution_count": 1,
      "outputs": []
    },
    {
      "cell_type": "code",
      "metadata": {
        "id": "B5yA91tL26rs"
      },
      "source": [
        "iris = datasets.load_iris()\n",
        "\n",
        "#特徴量は最初の2つ, クラスラベルも最初の2つを使う\n",
        "X = iris.data[:100, :2]\n",
        "\n",
        "#特徴量にノイズを加える\n",
        "E = np.random.uniform(0, 2.0, size=np.shape(X))\n",
        "X += E\n",
        "y = iris.target[:100]"
      ],
      "execution_count": 2,
      "outputs": []
    },
    {
      "cell_type": "code",
      "source": [
        "clf = svm.SVC().fit(X, y)"
      ],
      "metadata": {
        "id": "lkS4m-JHTgeJ"
      },
      "execution_count": 3,
      "outputs": []
    },
    {
      "cell_type": "code",
      "source": [
        "h = 0.02\n",
        "\n",
        "x_min, x_max = X[:, 0].min() - 1, X[:, 0].max() + 1\n",
        "y_min, y_max = X[:, 1].min() - 1, X[:, 1].max() + 1\n",
        "xx, yy = np.meshgrid(np.arange(x_min, x_max, h), np.arange(y_min, y_max, h))\n",
        "\n",
        "from matplotlib.colors import ListedColormap\n",
        "colors = ('red', 'blue', 'lightgreen', 'gray', 'cyan')\n",
        "cmap = ListedColormap(colors[:len(np.unique(y))])"
      ],
      "metadata": {
        "id": "JTP0IhC6Tna0"
      },
      "execution_count": 4,
      "outputs": []
    },
    {
      "cell_type": "code",
      "source": [
        "# 各領域がどのクラスに属するかを可視化\n",
        "Z = clf.predict(np.c_[xx.ravel(), yy.ravel()])\n",
        "Z = Z.reshape(xx.shape)\n",
        "plt.contourf(xx, yy, Z, cmap=cmap, alpha=0.3)\n",
        "plt.scatter(X[:, 0], X[:, 1], c=y, cmap=cmap)\n",
        "plt.xlabel(\"Sepal length\")\n",
        "plt.ylabel(\"Sepal width\")\n",
        "plt.xlim(xx.min(), xx.max())\n",
        "plt.ylim(yy.min(), yy.max())\n",
        "plt.show()"
      ],
      "metadata": {
        "id": "zEbMZcUHTogX",
        "outputId": "71dfd242-7304-4338-97d7-a0504cde7885",
        "colab": {
          "base_uri": "https://localhost:8080/",
          "height": 279
        }
      },
      "execution_count": 5,
      "outputs": [
        {
          "output_type": "display_data",
          "data": {
            "image/png": "[encoded data removed]",
            "text/plain": [
              "<Figure size 432x288 with 1 Axes>"
            ]
          },
          "metadata": {
            "needs_background": "light"
          }
        }
      ]
    }
  ]
}