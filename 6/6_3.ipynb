{
  "nbformat": 4,
  "nbformat_minor": 0,
  "metadata": {
    "colab": {
      "name": "6_3.ipynb",
      "provenance": [],
      "authorship_tag": "ABX9TyMqEp59qF956so1TEzg1dSO",
      "include_colab_link": true
    },
    "kernelspec": {
      "name": "python3",
      "display_name": "Python 3"
    }
  },
  "cells": [
    {
      "cell_type": "markdown",
      "metadata": {
        "id": "view-in-github",
        "colab_type": "text"
      },
      "source": [
        "<a href=\"https://colab.research.google.com/github/peisuke/ml-works/blob/main/6/6_3.ipynb\" target=\"_parent\"><img src=\"https://colab.research.google.com/assets/colab-badge.svg\" alt=\"Open In Colab\"/></a>"
      ]
    },
    {
      "cell_type": "markdown",
      "metadata": {
        "id": "gWSbw87f4XZs"
      },
      "source": [
        "- 本コードは以下のサイトを参考にしました\n",
        "- http://taustation.com/mlp-multilayer-perceptron/"
      ]
    },
    {
      "cell_type": "code",
      "metadata": {
        "id": "1UupZzxt4U2k"
      },
      "source": [
        "import numpy as np\n",
        "import matplotlib.pyplot as plt\n",
        "from sklearn.datasets import make_moons\n",
        "from sklearn.model_selection import train_test_split\n",
        "from sklearn.neural_network import MLPClassifier"
      ],
      "execution_count": 1,
      "outputs": []
    },
    {
      "cell_type": "code",
      "metadata": {
        "id": "EW9E_Qbk4iQF"
      },
      "source": [
        "xmin, xmax = -1.5, 2.5\n",
        "ymin, ymax = -0.75, 1.75\n",
        " \n",
        "X, y = make_moons(n_samples=100, noise=0.25, random_state=3)\n",
        "X_train, X_test, y_train, y_test = \\\n",
        "    train_test_split(X, y, stratify=y, random_state=42)"
      ],
      "execution_count": 2,
      "outputs": []
    },
    {
      "cell_type": "code",
      "metadata": {
        "id": "u0xBvL-m4las"
      },
      "source": [
        "mlp = MLPClassifier(solver='lbfgs', random_state=0).fit(X_train, y_train)\n",
        " \n",
        "f0 = np.linspace(xmin, xmax, 400)\n",
        "f1 = np.linspace(ymin, ymax, 400)\n",
        "f0, f1 = np.meshgrid(f0, f1)\n",
        "pred = mlp.predict(np.vstack([f0.ravel(), f1.ravel()]).T).reshape(f0.shape)"
      ],
      "execution_count": 3,
      "outputs": []
    },
    {
      "cell_type": "code",
      "metadata": {
        "colab": {
          "base_uri": "https://localhost:8080/",
          "height": 279
        },
        "id": "wc1rZAFL4m6g",
        "outputId": "20e86065-a69d-40bc-b4e9-c5735e4cf774"
      },
      "source": [
        "fig, ax = plt.subplots()\n",
        "color0, color1 = 'tab:blue', 'tab:orange'\n",
        "Xtr0 = X_train[y_train==0]\n",
        "Xtr1 = X_train[y_train==1]\n",
        "ax.scatter(Xtr0[:, 0], Xtr0[:, 1], marker='o', s=80, color=color0)\n",
        "ax.scatter(Xtr1[:, 0], Xtr1[:, 1], marker='^', s=80, color=color1)\n",
        "ax.contourf(f0, f1, pred, levels=1, colors=[color0, color1], alpha=0.25)\n",
        "ax.contour(f0, f1, pred, levels=[0.5])\n",
        "ax.set_xlim(xmin, xmax)\n",
        "ax.set_ylim(ymin, ymax)\n",
        "ax.set_xlabel(\"Feature 0\")\n",
        "ax.set_ylabel(\"Feature 1\")\n",
        "plt.show()"
      ],
      "execution_count": 4,
      "outputs": [
        {
          "output_type": "display_data",
          "data": {
            "image/png": "[encoded data removed]",
            "text/plain": [
              "<Figure size 432x288 with 1 Axes>"
            ]
          },
          "metadata": {
            "tags": [],
            "needs_background": "light"
          }
        }
      ]
    },
    {
      "cell_type": "code",
      "metadata": {
        "id": "jrY2WqPu4ntk"
      },
      "source": [
        ""
      ],
      "execution_count": 4,
      "outputs": []
    }
  ]
}