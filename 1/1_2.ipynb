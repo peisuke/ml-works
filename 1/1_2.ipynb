{
  "nbformat": 4,
  "nbformat_minor": 0,
  "metadata": {
    "colab": {
      "name": "1-2.ipynb",
      "provenance": [],
      "collapsed_sections": [],
      "include_colab_link": true
    },
    "kernelspec": {
      "name": "python3",
      "display_name": "Python 3"
    }
  },
  "cells": [
    {
      "cell_type": "markdown",
      "metadata": {
        "id": "view-in-github",
        "colab_type": "text"
      },
      "source": [
        "<a href=\"https://colab.research.google.com/github/peisuke/ml-works/blob/main/1/1_2.ipynb\" target=\"_parent\"><img src=\"https://colab.research.google.com/assets/colab-badge.svg\" alt=\"Open In Colab\"/></a>"
      ]
    },
    {
      "cell_type": "markdown",
      "source": [
        "## 1.2: 分類問題\n",
        "- 目的\n",
        "    - 機械学習の問題を解いてみる\n",
        "- 内容\n",
        "    - irisというデータセットを対象に、分類を実行"
      ],
      "metadata": {
        "id": "QxRF-uVbGsnm"
      }
    },
    {
      "cell_type": "code",
      "metadata": {
        "id": "4MksY7SfcnhL"
      },
      "source": [
        "# プログラム内で使うツール群の宣言\n",
        "import numpy as np\n",
        "from sklearn import preprocessing\n",
        "from sklearn.datasets import load_iris\n",
        "from sklearn.model_selection import train_test_split\n",
        "from sklearn.metrics import accuracy_score, precision_score, recall_score\n",
        "from sklearn import svm"
      ],
      "execution_count": 1,
      "outputs": []
    },
    {
      "cell_type": "code",
      "metadata": {
        "id": "Ydso1zoXc1NS"
      },
      "source": [
        "# irisデータの読み込み\n",
        "iris = load_iris()\n",
        "features = preprocessing.minmax_scale(iris['data'])\n",
        "labels = iris['target']"
      ],
      "execution_count": 2,
      "outputs": []
    },
    {
      "cell_type": "code",
      "source": [
        "# 学習の入力データ（先頭の3つのみ表示）\n",
        "print(features[:3])"
      ],
      "metadata": {
        "id": "x7rrlFAWHUQb",
        "outputId": "a09c296d-e589-475f-d482-dc4f0aa29b37",
        "colab": {
          "base_uri": "https://localhost:8080/"
        }
      },
      "execution_count": 3,
      "outputs": [
        {
          "output_type": "stream",
          "name": "stdout",
          "text": [
            "[[0.22222222 0.625      0.06779661 0.04166667]\n",
            " [0.16666667 0.41666667 0.06779661 0.04166667]\n",
            " [0.11111111 0.5        0.05084746 0.04166667]]\n"
          ]
        }
      ]
    },
    {
      "cell_type": "code",
      "source": [
        "# 予測すべき正解データ\n",
        "print(labels[:3])"
      ],
      "metadata": {
        "id": "ngPOrhmyHfem",
        "outputId": "1dec076f-b404-41fc-e83e-e2d0162cd6bf",
        "colab": {
          "base_uri": "https://localhost:8080/"
        }
      },
      "execution_count": 4,
      "outputs": [
        {
          "output_type": "stream",
          "name": "stdout",
          "text": [
            "[0 0 0]\n"
          ]
        }
      ]
    },
    {
      "cell_type": "code",
      "metadata": {
        "id": "gEwFwDDddDqF"
      },
      "source": [
        "# データの分割\n",
        "# 学習用のデータをtrain、テスト用のデータをtestとする\n",
        "x_train, x_test, y_train, y_test = train_test_split(features, labels.ravel(), test_size=0.3)"
      ],
      "execution_count": 5,
      "outputs": []
    },
    {
      "cell_type": "code",
      "metadata": {
        "colab": {
          "base_uri": "https://localhost:8080/"
        },
        "id": "YLF_D2e1dIRY",
        "outputId": "1ac9b0d1-8fa2-43fa-c91d-d3b8787a6469"
      },
      "source": [
        "# 学習の実行\n",
        "# x_trainを入れた時に、y_trainが出力されるようなパラメータを学習\n",
        "# ここではSuppor Vector Classificationという手法を利用する\n",
        "clf = svm.SVC(kernel='rbf', C=3, gamma=0.1)\n",
        "clf.fit(x_train, y_train)"
      ],
      "execution_count": 6,
      "outputs": [
        {
          "output_type": "execute_result",
          "data": {
            "text/plain": [
              "SVC(C=3, gamma=0.1)"
            ]
          },
          "metadata": {},
          "execution_count": 6
        }
      ]
    },
    {
      "cell_type": "code",
      "metadata": {
        "id": "4GnjuGfHdL9E"
      },
      "source": [
        "# 推論\n",
        "# 学習したパラメータを利用して、テストデータ（x_test）に対して推論を実行\n",
        "predict = clf.predict(x_test)"
      ],
      "execution_count": 7,
      "outputs": []
    },
    {
      "cell_type": "code",
      "source": [
        "# テスト用データ\n",
        "print(x_test[:3])"
      ],
      "metadata": {
        "id": "6scg_TNoICo3",
        "outputId": "f4d0f7ef-4559-423b-d738-8ce4eaeb85f3",
        "colab": {
          "base_uri": "https://localhost:8080/"
        }
      },
      "execution_count": 8,
      "outputs": [
        {
          "output_type": "stream",
          "name": "stdout",
          "text": [
            "[[0.19444444 0.66666667 0.06779661 0.04166667]\n",
            " [0.61111111 0.41666667 0.76271186 0.70833333]\n",
            " [0.38888889 0.33333333 0.52542373 0.5       ]]\n"
          ]
        }
      ]
    },
    {
      "cell_type": "code",
      "source": [
        "# テスト用データの正解\n",
        "print(y_test[:3])"
      ],
      "metadata": {
        "id": "gzj1X1hfInkU",
        "outputId": "f82fe826-06bf-49c4-f350-34c8298b4618",
        "colab": {
          "base_uri": "https://localhost:8080/"
        }
      },
      "execution_count": 9,
      "outputs": [
        {
          "output_type": "stream",
          "name": "stdout",
          "text": [
            "[0 2 1]\n"
          ]
        }
      ]
    },
    {
      "cell_type": "code",
      "source": [
        "# 推論結果\n",
        "print(predict[:3])"
      ],
      "metadata": {
        "id": "R5FFcbM2Ic6Y",
        "outputId": "aeb77cf7-0a42-4311-bbed-f07993e85642",
        "colab": {
          "base_uri": "https://localhost:8080/"
        }
      },
      "execution_count": 10,
      "outputs": [
        {
          "output_type": "stream",
          "name": "stdout",
          "text": [
            "[0 2 1]\n"
          ]
        }
      ]
    },
    {
      "cell_type": "code",
      "metadata": {
        "colab": {
          "base_uri": "https://localhost:8080/"
        },
        "id": "fFlqlBcndr1P",
        "outputId": "cb30128a-4c87-4b23-ddc9-9b16f57c6b9f"
      },
      "source": [
        "# 精度\n",
        "# テストデータの正解と、推論結果を比較して正解率を計算\n",
        "print(accuracy_score(y_test, predict))"
      ],
      "execution_count": 11,
      "outputs": [
        {
          "output_type": "stream",
          "name": "stdout",
          "text": [
            "0.9333333333333333\n"
          ]
        }
      ]
    }
  ]
}