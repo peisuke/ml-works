{
  "nbformat": 4,
  "nbformat_minor": 0,
  "metadata": {
    "colab": {
      "name": "7_3.ipynb",
      "provenance": [],
      "authorship_tag": "ABX9TyNBefKHhAXyQUhIxKR+qpI5",
      "include_colab_link": true
    },
    "kernelspec": {
      "name": "python3",
      "display_name": "Python 3"
    }
  },
  "cells": [
    {
      "cell_type": "markdown",
      "metadata": {
        "id": "view-in-github",
        "colab_type": "text"
      },
      "source": [
        "<a href=\"https://colab.research.google.com/github/peisuke/ml-works/blob/main/7/7_3.ipynb\" target=\"_parent\"><img src=\"https://colab.research.google.com/assets/colab-badge.svg\" alt=\"Open In Colab\"/></a>"
      ]
    },
    {
      "cell_type": "markdown",
      "metadata": {
        "id": "_E1qV92j9iYN"
      },
      "source": [
        "- 本コードは以下のサイトを参考にしました\n",
        "- https://qiita.com/Yt330110713/items/534e1791aee4e1440785"
      ]
    },
    {
      "cell_type": "code",
      "metadata": {
        "id": "2qFJzhL47oZk"
      },
      "source": [
        "import numpy as np\n",
        "import matplotlib.pyplot as plt\n",
        "from sklearn.cluster import KMeans\n",
        "from sklearn.datasets import make_blobs, make_moons"
      ],
      "execution_count": 1,
      "outputs": []
    },
    {
      "cell_type": "code",
      "metadata": {
        "id": "Wht6VuEo7vSG"
      },
      "source": [
        "K = 3\n",
        "clf = KMeans(n_clusters = K)\n",
        "\n",
        "dataset = make_blobs(centers = K, random_state=1)\n",
        "features = np.array(dataset[0])\n",
        "pred = clf.fit_predict(features)"
      ],
      "execution_count": 2,
      "outputs": []
    },
    {
      "cell_type": "code",
      "metadata": {
        "colab": {
          "base_uri": "https://localhost:8080/",
          "height": 265
        },
        "id": "w7eurzmL7v3W",
        "outputId": "52fa8d1c-3670-4843-8c8b-8e03d39eb3a3"
      },
      "source": [
        "for i in range(K):\n",
        "    labels = features[pred == i]\n",
        "    plt.scatter(labels[:,0],labels[:,1])\n",
        "plt.show()"
      ],
      "execution_count": 3,
      "outputs": [
        {
          "output_type": "display_data",
          "data": {
            "image/png": "[encoded data removed]",
            "text/plain": [
              "<Figure size 432x288 with 1 Axes>"
            ]
          },
          "metadata": {
            "tags": [],
            "needs_background": "light"
          }
        }
      ]
    },
    {
      "cell_type": "code",
      "metadata": {
        "id": "K_0kr25E8Qj3"
      },
      "source": [
        "NOISE = [25,25]\n",
        "features = np.append(features, NOISE).reshape(-1,2)\n",
        "pred = clf.fit_predict(features)"
      ],
      "execution_count": 4,
      "outputs": []
    },
    {
      "cell_type": "code",
      "metadata": {
        "colab": {
          "base_uri": "https://localhost:8080/",
          "height": 265
        },
        "id": "MgME0CD38mVU",
        "outputId": "5bd877be-765a-4815-860d-39bffd735067"
      },
      "source": [
        "for i in range(K):\n",
        "    labels = features[pred == i]\n",
        "    plt.scatter(labels[:,0],labels[:,1])\n",
        "plt.show()"
      ],
      "execution_count": 5,
      "outputs": [
        {
          "output_type": "display_data",
          "data": {
            "image/png": "[encoded data removed]",
            "text/plain": [
              "<Figure size 432x288 with 1 Axes>"
            ]
          },
          "metadata": {
            "tags": [],
            "needs_background": "light"
          }
        }
      ]
    },
    {
      "cell_type": "code",
      "metadata": {
        "id": "_pTe7lPg8ttR"
      },
      "source": [
        "dataset = make_blobs(centers = K+1, random_state=6)\n",
        "features = np.array(dataset[0])\n",
        "pred = clf.fit_predict(features)"
      ],
      "execution_count": 6,
      "outputs": []
    },
    {
      "cell_type": "code",
      "metadata": {
        "colab": {
          "base_uri": "https://localhost:8080/",
          "height": 265
        },
        "id": "SfOwlkB19H2D",
        "outputId": "68e714ce-f272-4ce9-9ee1-923e03085474"
      },
      "source": [
        "for i in range(K):\n",
        "    labels = features[pred == i]\n",
        "    plt.scatter(labels[:,0],labels[:,1])\n",
        "plt.show()"
      ],
      "execution_count": 7,
      "outputs": [
        {
          "output_type": "display_data",
          "data": {
            "image/png": "[encoded data removed]",
            "text/plain": [
              "<Figure size 432x288 with 1 Axes>"
            ]
          },
          "metadata": {
            "tags": [],
            "needs_background": "light"
          }
        }
      ]
    },
    {
      "cell_type": "code",
      "metadata": {
        "colab": {
          "base_uri": "https://localhost:8080/",
          "height": 265
        },
        "id": "bdRVnpDF9KQq",
        "outputId": "9f9147c7-551b-410b-9fbc-c4e4665b827a"
      },
      "source": [
        "clf = KMeans(n_clusters = 2)\n",
        "\n",
        "X1,y1 = make_moons(noise = 0.05, random_state=0)\n",
        "pred1 = clf.fit_predict(X1)\n",
        "\n",
        "for i in range(2):\n",
        "    labels = X1[pred1 == i]\n",
        "    plt.scatter(labels[:,0],labels[:,1])\n",
        "\n",
        "plt.show()"
      ],
      "execution_count": 8,
      "outputs": [
        {
          "output_type": "display_data",
          "data": {
            "image/png": "[encoded data removed]",
            "text/plain": [
              "<Figure size 432x288 with 1 Axes>"
            ]
          },
          "metadata": {
            "tags": [],
            "needs_background": "light"
          }
        }
      ]
    }
  ]
}