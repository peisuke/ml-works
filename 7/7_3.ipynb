{
  "nbformat": 4,
  "nbformat_minor": 0,
  "metadata": {
    "colab": {
      "name": "7_3.ipynb",
      "provenance": [],
      "authorship_tag": "ABX9TyNxzkqbfZef59KZ7ZgVdlaV",
      "include_colab_link": true
    },
    "kernelspec": {
      "name": "python3",
      "display_name": "Python 3"
    }
  },
  "cells": [
    {
      "cell_type": "markdown",
      "metadata": {
        "id": "view-in-github",
        "colab_type": "text"
      },
      "source": [
        "<a href=\"https://colab.research.google.com/github/peisuke/ml-works/blob/main/7/7_3.ipynb\" target=\"_parent\"><img src=\"https://colab.research.google.com/assets/colab-badge.svg\" alt=\"Open In Colab\"/></a>"
      ]
    },
    {
      "cell_type": "markdown",
      "metadata": {
        "id": "_E1qV92j9iYN"
      },
      "source": [
        "# 7.3 K-meansによるクラスタリング\n",
        "- 目的\n",
        "    - K-meansを用いたクラスタリングの実験を行う\n",
        "    - どのような時に分類できないかを学ぶ\n",
        "- 内容\n",
        "    - 適切に分類できる場合\n",
        "    - 外れ値の影響を受ける場合\n",
        "    - クラスタ数を誤っている場合\n",
        "    - データの形状が複雑な場合\n",
        "- 参考\n",
        "    - 本コードは以下のサイトを参考にしました\n",
        "    - https://qiita.com/Yt330110713/items/534e1791aee4e1440785"
      ]
    },
    {
      "cell_type": "code",
      "metadata": {
        "id": "2qFJzhL47oZk"
      },
      "source": [
        "import numpy as np\n",
        "import matplotlib.pyplot as plt\n",
        "from sklearn.cluster import KMeans\n",
        "from sklearn.datasets import make_blobs, make_moons"
      ],
      "execution_count": 1,
      "outputs": []
    },
    {
      "cell_type": "code",
      "metadata": {
        "id": "Wht6VuEo7vSG"
      },
      "source": [
        "# データの作成、クラスタ数を3とする\n",
        "K = 3\n",
        "dataset = make_blobs(centers = K, random_state=1)\n",
        "features = np.array(dataset[0])\n",
        "\n",
        "# K-meansによるクラスタリング\n",
        "clf = KMeans(n_clusters = K)\n",
        "pred = clf.fit_predict(features)"
      ],
      "execution_count": 2,
      "outputs": []
    },
    {
      "cell_type": "code",
      "metadata": {
        "colab": {
          "base_uri": "https://localhost:8080/",
          "height": 265
        },
        "id": "w7eurzmL7v3W",
        "outputId": "ee60a6cf-6675-443d-ac89-3e29d95840de"
      },
      "source": [
        "# クラスタリング結果の可視化\n",
        "for i in range(K):\n",
        "    labels = features[pred == i]\n",
        "    plt.scatter(labels[:,0],labels[:,1])\n",
        "plt.show()"
      ],
      "execution_count": 3,
      "outputs": [
        {
          "output_type": "display_data",
          "data": {
            "image/png": "[encoded data removed]",
            "text/plain": [
              "<Figure size 432x288 with 1 Axes>"
            ]
          },
          "metadata": {
            "needs_background": "light"
          }
        }
      ]
    },
    {
      "cell_type": "code",
      "metadata": {
        "id": "K_0kr25E8Qj3"
      },
      "source": [
        "# ノイズデータを追加して再度クラスタリング\n",
        "NOISE = [25,25]\n",
        "features = np.append(features, NOISE).reshape(-1,2)\n",
        "pred = clf.fit_predict(features)"
      ],
      "execution_count": 4,
      "outputs": []
    },
    {
      "cell_type": "code",
      "metadata": {
        "colab": {
          "base_uri": "https://localhost:8080/",
          "height": 265
        },
        "id": "MgME0CD38mVU",
        "outputId": "40826a9a-c56c-4cf2-f0e8-10e2aa92921f"
      },
      "source": [
        "# クラスタリング結果の可視化\n",
        "# 追加したノイズが一つのクラスタと判別されてしまう\n",
        "for i in range(K):\n",
        "    labels = features[pred == i]\n",
        "    plt.scatter(labels[:,0],labels[:,1])\n",
        "plt.show()"
      ],
      "execution_count": 5,
      "outputs": [
        {
          "output_type": "display_data",
          "data": {
            "image/png": "[encoded data removed]",
            "text/plain": [
              "<Figure size 432x288 with 1 Axes>"
            ]
          },
          "metadata": {
            "needs_background": "light"
          }
        }
      ]
    },
    {
      "cell_type": "code",
      "metadata": {
        "id": "_pTe7lPg8ttR"
      },
      "source": [
        "# データのクラスタ数を4、K-meansに与えるクラスタ数を3として実験\n",
        "dataset = make_blobs(centers = K+1, random_state=6)\n",
        "features = np.array(dataset[0])\n",
        "pred = clf.fit_predict(features)"
      ],
      "execution_count": 6,
      "outputs": []
    },
    {
      "cell_type": "code",
      "metadata": {
        "colab": {
          "base_uri": "https://localhost:8080/",
          "height": 265
        },
        "id": "SfOwlkB19H2D",
        "outputId": "9f8d5d8e-f66a-4b98-e8fc-4232acb9215c"
      },
      "source": [
        "# むりやり3つに分離したため、２つのデータのまとまりを1つのクラスと見なしてしまう\n",
        "for i in range(K):\n",
        "    labels = features[pred == i]\n",
        "    plt.scatter(labels[:,0],labels[:,1])\n",
        "plt.show()"
      ],
      "execution_count": 7,
      "outputs": [
        {
          "output_type": "display_data",
          "data": {
            "image/png": "[encoded data removed]",
            "text/plain": [
              "<Figure size 432x288 with 1 Axes>"
            ]
          },
          "metadata": {
            "needs_background": "light"
          }
        }
      ]
    },
    {
      "cell_type": "code",
      "metadata": {
        "id": "bdRVnpDF9KQq"
      },
      "source": [
        "# 複雑な形状でのクラスタリング\n",
        "X1,y1 = make_moons(noise = 0.05, random_state=0)\n",
        "\n",
        "clf = KMeans(n_clusters = 2)\n",
        "pred1 = clf.fit_predict(X1)"
      ],
      "execution_count": 8,
      "outputs": []
    },
    {
      "cell_type": "code",
      "source": [
        "# K-meansではこのような形のクラスタリングができない\n",
        "for i in range(2):\n",
        "    labels = X1[pred1 == i]\n",
        "    plt.scatter(labels[:,0],labels[:,1])\n",
        "\n",
        "plt.show()"
      ],
      "metadata": {
        "id": "cXGqqoPP-7J0",
        "outputId": "942c1806-3e81-4132-aef0-d20fd72b9b39",
        "colab": {
          "base_uri": "https://localhost:8080/",
          "height": 265
        }
      },
      "execution_count": 9,
      "outputs": [
        {
          "output_type": "display_data",
          "data": {
            "image/png": "[encoded data removed]",
            "text/plain": [
              "<Figure size 432x288 with 1 Axes>"
            ]
          },
          "metadata": {
            "needs_background": "light"
          }
        }
      ]
    }
  ]
}