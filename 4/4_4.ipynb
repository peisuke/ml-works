{
  "nbformat": 4,
  "nbformat_minor": 0,
  "metadata": {
    "colab": {
      "name": "4_4.ipynb",
      "provenance": [],
      "collapsed_sections": [],
      "authorship_tag": "ABX9TyMIk7O3L5R/5MjFObeEvrFu",
      "include_colab_link": true
    },
    "kernelspec": {
      "name": "python3",
      "display_name": "Python 3"
    }
  },
  "cells": [
    {
      "cell_type": "markdown",
      "metadata": {
        "id": "view-in-github",
        "colab_type": "text"
      },
      "source": [
        "<a href=\"https://colab.research.google.com/github/peisuke/ml-works/blob/main/4/4_4.ipynb\" target=\"_parent\"><img src=\"https://colab.research.google.com/assets/colab-badge.svg\" alt=\"Open In Colab\"/></a>"
      ]
    },
    {
      "cell_type": "markdown",
      "metadata": {
        "id": "ajnoxBaqqU8M"
      },
      "source": [
        "- 本コードは以下のサイトを参考にしました\n",
        "- https://data-analysis-stats.jp/python/ホールドアウト検証と交差検証/"
      ]
    },
    {
      "cell_type": "code",
      "metadata": {
        "id": "VxrIqBv6pjRJ"
      },
      "source": [
        "#ライブラリのインポート\n",
        "import numpy as np\n",
        "import pandas as pd\n",
        "import warnings\n",
        "warnings.filterwarnings(\"ignore\")"
      ],
      "execution_count": 1,
      "outputs": []
    },
    {
      "cell_type": "code",
      "metadata": {
        "id": "xd1uRKD-ppIN"
      },
      "source": [
        "#scikit-learnより癌のデータを抽出する\n",
        "from sklearn.datasets import load_breast_cancer\n",
        "data = load_breast_cancer()\n",
        "\n",
        "#癌のデータを読み込む\n",
        "X = pd.DataFrame(data=data.data, columns=data.feature_names)\n",
        "y = pd.DataFrame(data=data.target)"
      ],
      "execution_count": 2,
      "outputs": []
    },
    {
      "cell_type": "code",
      "metadata": {
        "colab": {
          "base_uri": "https://localhost:8080/"
        },
        "id": "svbhbs1Vpq9P",
        "outputId": "7cc10d6e-a88f-4cea-c038-f631b1c4ef11"
      },
      "source": [
        "#線形モデル(ロジスティク回帰)として測定器を作成する\n",
        "from sklearn import linear_model\n",
        "from sklearn.model_selection import train_test_split\n",
        "\n",
        "#Hold-out\n",
        "X_train, X_val, y_train, y_val = train_test_split(X, y, test_size=0.20, random_state=93)\n",
        "\n",
        "clf = linear_model.LogisticRegression()\n",
        "model = clf.fit(X_train, y_train)\n",
        "\n",
        "#スコア計算\n",
        "print(f\"スコア: {model.score(X_val, y_val)}\")"
      ],
      "execution_count": 3,
      "outputs": [
        {
          "output_type": "stream",
          "text": [
            "スコア: 0.9649122807017544\n"
          ],
          "name": "stdout"
        }
      ]
    },
    {
      "cell_type": "code",
      "metadata": {
        "colab": {
          "base_uri": "https://localhost:8080/"
        },
        "id": "_YeUGWdQprZ5",
        "outputId": "d6305759-86a1-402f-96e9-37e857907a2c"
      },
      "source": [
        "#Cross Validation\n",
        "from sklearn.model_selection import cross_val_score\n",
        "score = cross_val_score(clf, X, y, cv=5)\n",
        "\n",
        "#正解率を出力する\n",
        "print(f\"スコア: {score}\")\n",
        "\n",
        "#平均値を出力する\n",
        "print(f\"平均値： {score.mean()}\")"
      ],
      "execution_count": 4,
      "outputs": [
        {
          "output_type": "stream",
          "text": [
            "スコア: [0.93859649 0.93859649 0.95614035 0.94736842 0.95575221]\n",
            "平均値： 0.947290793355069\n"
          ],
          "name": "stdout"
        }
      ]
    }
  ]
}