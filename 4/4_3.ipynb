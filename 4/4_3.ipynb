{
  "nbformat": 4,
  "nbformat_minor": 0,
  "metadata": {
    "colab": {
      "name": "4_3.ipynb",
      "provenance": [],
      "authorship_tag": "ABX9TyPfqrqqTUR1wO7ftlz+NRaK",
      "include_colab_link": true
    },
    "kernelspec": {
      "name": "python3",
      "display_name": "Python 3"
    }
  },
  "cells": [
    {
      "cell_type": "markdown",
      "metadata": {
        "id": "view-in-github",
        "colab_type": "text"
      },
      "source": [
        "<a href=\"https://colab.research.google.com/github/peisuke/ml-works/blob/main/4/4_3.ipynb\" target=\"_parent\"><img src=\"https://colab.research.google.com/assets/colab-badge.svg\" alt=\"Open In Colab\"/></a>"
      ]
    },
    {
      "cell_type": "markdown",
      "metadata": {
        "id": "-hxPgUVzoU5O"
      },
      "source": [
        "# 4.3 バリデーションを用いたパラメータのチューニング\n",
        "- 目的\n",
        "    - 機械学習モデルをチューニングする際のプロセスについて学ぶ\n",
        "    - テストデータを見ずに検証データを用いてチューニングする流れを確認する\n",
        "- 内容\n",
        "    - これまでと同様の学習\n",
        "    - テストデータに対する誤ったチューニング\n",
        "    - Holdoutを用いたチューニング\n",
        "    - Cross validationを用いたチューニング\n",
        "- 参考\n",
        "    - 本コードは以下のサイトを参考にしました\n",
        "    - https://qiita.com/tomov3/items/039d4271ed30490edf7b"
      ]
    },
    {
      "cell_type": "code",
      "metadata": {
        "id": "_z0pMRoRoUEL"
      },
      "source": [
        "# 必要なライブラリの import\n",
        "import numpy as np\n",
        "from sklearn.datasets import load_iris\n",
        "from sklearn.model_selection import cross_val_score \n",
        "from sklearn.model_selection import train_test_split\n",
        "from sklearn.svm import SVC"
      ],
      "execution_count": 1,
      "outputs": []
    },
    {
      "cell_type": "code",
      "metadata": {
        "id": "lo2mC8mYoc8e"
      },
      "source": [
        "# データのロード\n",
        "iris = load_iris()\n",
        "\n",
        "# データの分割\n",
        "X_train, X_test, y_train, y_test = train_test_split(iris.data, iris.target, test_size=0.4, random_state=0)"
      ],
      "execution_count": 2,
      "outputs": []
    },
    {
      "cell_type": "markdown",
      "source": [
        "### 初期実験\n",
        "- まずは、前の実験と同じように学習データとテストデータに分離、\n",
        "- 学習データを使い学習し、テストデータで精度を検証"
      ],
      "metadata": {
        "id": "60hU-DgxRmbR"
      }
    },
    {
      "cell_type": "code",
      "source": [
        "# これまで通りにtraining set を用いて学習し、test setで評価\n",
        "svm = SVC()\n",
        "svm.fit(X_train, y_train)\n",
        "score = svm.score(X_test, y_test)\n",
        "print('Test set score: {}'.format(score))"
      ],
      "metadata": {
        "id": "7MTVcS6LOH7z",
        "outputId": "14b070c1-2545-415e-e2d8-a4233f211503",
        "colab": {
          "base_uri": "https://localhost:8080/"
        }
      },
      "execution_count": 3,
      "outputs": [
        {
          "output_type": "stream",
          "name": "stdout",
          "text": [
            "Test set score: 0.9333333333333333\n"
          ]
        }
      ]
    },
    {
      "cell_type": "markdown",
      "source": [
        "### よくある間違い\n",
        "- テストデータの精度を上げる際に、パラメータを設定→テスト精度をチェックをしてしまうこと\n",
        "- 見かけ上の精度は良くなるが、テストデータに特化したパラメータが得られてしまう"
      ],
      "metadata": {
        "id": "ZZ4rq3HWR35-"
      }
    },
    {
      "cell_type": "code",
      "metadata": {
        "colab": {
          "base_uri": "https://localhost:8080/"
        },
        "id": "gSVDaEgootOF",
        "outputId": "851120fb-9661-463d-b8f7-0f07be514aff"
      },
      "source": [
        "# 以下の数値をSVCのパラメータ（gamma, C）に入れて実験\n",
        "param_list = [0.0001, 0.0005, 0.001, 0.005, 0.01, 0.1, 1, 5, 10, 20, 50, 100, 500, 1000, 5000]\n",
        "\n",
        "best_score = 0\n",
        "best_parameters = {}\n",
        "\n",
        "for gamma in param_list:\n",
        "    for C in param_list:\n",
        "        svm = SVC(gamma=gamma, C=C)\n",
        "        svm.fit(X_train, y_train)\n",
        "\n",
        "        # テストデータのスコアを計算\n",
        "        score = svm.score(X_test, y_test)\n",
        "\n",
        "        # 最も良いスコアのパラメータとスコアを更新\n",
        "        if score > best_score:\n",
        "            best_score = score\n",
        "            best_parameters = {'gamma' : gamma, 'C' : C}\n",
        "\n",
        "# 最もテストデータに対する結果の良かったパラメータを表示\n",
        "print('Best score: {}'.format(best_score))\n",
        "print('Best parameters: {}'.format(best_parameters))"
      ],
      "execution_count": 4,
      "outputs": [
        {
          "output_type": "stream",
          "name": "stdout",
          "text": [
            "Best score: 0.9666666666666667\n",
            "Best parameters: {'gamma': 0.0001, 'C': 5000}\n"
          ]
        }
      ]
    },
    {
      "cell_type": "markdown",
      "source": [
        "### Holdoutを利用した検証\n",
        "- 学習データを更に、訓練用・検証用の２つに分ける\n",
        "- 片方で学習をし、もう片方で精度をチェック\n",
        "- こうすることでテストデータを見ずに良いパラメータを探索できる\n",
        "- ただし、検証データ量が少ない場合、誤ったパラメータが選択されてしまう場合がある"
      ],
      "metadata": {
        "id": "yuFkYderShWC"
      }
    },
    {
      "cell_type": "code",
      "metadata": {
        "colab": {
          "base_uri": "https://localhost:8080/"
        },
        "id": "PrJNdIoFowUG",
        "outputId": "dfb2bcc7-bda4-480c-9794-64698dfa17be"
      },
      "source": [
        "X_train, X_val, y_train, y_val = train_test_split(X_train, y_train, random_state=0)\n",
        "X_trainval = np.concatenate((X_train, X_val))\n",
        "y_trainval = np.concatenate((y_train, y_val))\n",
        "\n",
        "print('Size of trainings set: {}, validation set: {}, test set: {}'.format(X_train.shape, X_val.shape, X_test.shape))"
      ],
      "execution_count": 5,
      "outputs": [
        {
          "output_type": "stream",
          "name": "stdout",
          "text": [
            "Size of trainings set: (67, 4), validation set: (23, 4), test set: (60, 4)\n"
          ]
        }
      ]
    },
    {
      "cell_type": "code",
      "metadata": {
        "colab": {
          "base_uri": "https://localhost:8080/"
        },
        "id": "xtAcryOKoyRB",
        "outputId": "b962b52f-c49d-451a-8111-cfd157481cda"
      },
      "source": [
        "param_list = [0.0001, 0.0005, 0.001, 0.005, 0.01, 0.1, 1, 5, 10, 20, 50, 100, 500, 1000, 5000]\n",
        "\n",
        "best_score = 0\n",
        "best_parameters = {}\n",
        "\n",
        "for gamma in param_list:\n",
        "    for C in param_list:\n",
        "        svm = SVC(gamma=gamma, C=C)\n",
        "        svm.fit(X_train, y_train)\n",
        "\n",
        "        # 検証データを用いてscore を計算する\n",
        "        score = svm.score(X_val, y_val)\n",
        "        if score > best_score:\n",
        "            best_score = score\n",
        "            best_parameters = {'gamma' : gamma, 'C' : C}\n",
        "\n",
        "# 検証データに対して最も性能の良かったパラメータを用いて、全学習データを用いて再学習\n",
        "svm = SVC(**best_parameters)\n",
        "svm.fit(X_trainval, y_trainval)\n",
        "\n",
        "# テストデータによる評価は，ここで初めて行われる\n",
        "test_score = svm.score(X_test, y_test)\n",
        "\n",
        "print('Best score on validation set: {}'.format(best_score))\n",
        "print('Best parameters: {}'.format(best_parameters))\n",
        "print('Test set score with best parameters: {}'.format(test_score))"
      ],
      "execution_count": 6,
      "outputs": [
        {
          "output_type": "stream",
          "name": "stdout",
          "text": [
            "Best score on validation set: 1.0\n",
            "Best parameters: {'gamma': 0.0001, 'C': 500}\n",
            "Test set score with best parameters: 0.9333333333333333\n"
          ]
        }
      ]
    },
    {
      "cell_type": "markdown",
      "source": [
        "### Cross validationを利用した検証\n",
        "- Holdoutは検証データ量が少ない場合に誤ったパラメータが選択されてしまう場合があった\n",
        "- Cross Validationを用いて、データをK個（以下では5個）に分割して、それぞれに対して精度評価\n",
        "- 精度の平均が最も良いパラメータを採用\n",
        "- 時間は掛かるものの、最も良い検証が可能"
      ],
      "metadata": {
        "id": "2Z0AnJryTe00"
      }
    },
    {
      "cell_type": "code",
      "metadata": {
        "colab": {
          "base_uri": "https://localhost:8080/"
        },
        "id": "MjdbYHeMo0eh",
        "outputId": "da11f296-09c8-4d79-cd9b-ff53bcb70113"
      },
      "source": [
        "param_list = [0.0001, 0.0005, 0.001, 0.005, 0.01, 0.1, 1, 5, 10, 20, 50, 100, 500, 1000, 5000]\n",
        "\n",
        "best_score = 0\n",
        "best_parameters  = {}\n",
        "\n",
        "for gamma in param_list:\n",
        "    for C in param_list:\n",
        "        svm = SVC(gamma=gamma, C=C)\n",
        "\n",
        "        # cross_val_score() を用いてクロスバリデーション\n",
        "        scores = cross_val_score(svm, X_trainval, y_trainval, cv=5)\n",
        "\n",
        "        # K個の評価値の平均を用いる\n",
        "        score = np.mean(scores)\n",
        "        if score > best_score:\n",
        "            best_score = score\n",
        "            best_parameters = {'gamma' : gamma, 'C' : C}\n",
        "\n",
        "# 検証データに対して最も性能の良かったパラメータを用いて、全学習データを用いて再学習\n",
        "svm = SVC(**best_parameters)\n",
        "svm.fit(X_trainval, y_trainval)\n",
        "\n",
        "# テストデータによる評価は，ここで初めて行われる\n",
        "test_score = svm.score(X_test, y_test)\n",
        "\n",
        "print('Best score on validation set: {}'.format(best_score))\n",
        "print('Best parameters: {}'.format(best_parameters))\n",
        "print('Test set score with best parameters: {}'.format(test_score))"
      ],
      "execution_count": 7,
      "outputs": [
        {
          "output_type": "stream",
          "name": "stdout",
          "text": [
            "Best score on validation set: 0.9888888888888889\n",
            "Best parameters: {'gamma': 0.0001, 'C': 5000}\n",
            "Test set score with best parameters: 0.9666666666666667\n"
          ]
        }
      ]
    }
  ]
}