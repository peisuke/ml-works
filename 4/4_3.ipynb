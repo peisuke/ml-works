{
  "nbformat": 4,
  "nbformat_minor": 0,
  "metadata": {
    "colab": {
      "name": "4_3.ipynb",
      "provenance": [],
      "authorship_tag": "ABX9TyOnZlEdP5vX7/3pz+slEjH6",
      "include_colab_link": true
    },
    "kernelspec": {
      "name": "python3",
      "display_name": "Python 3"
    }
  },
  "cells": [
    {
      "cell_type": "markdown",
      "metadata": {
        "id": "view-in-github",
        "colab_type": "text"
      },
      "source": [
        "<a href=\"https://colab.research.google.com/github/peisuke/ml-works/blob/main/4/4_3.ipynb\" target=\"_parent\"><img src=\"https://colab.research.google.com/assets/colab-badge.svg\" alt=\"Open In Colab\"/></a>"
      ]
    },
    {
      "cell_type": "markdown",
      "metadata": {
        "id": "-hxPgUVzoU5O"
      },
      "source": [
        "- 本コードは以下のサイトを参考にしました\n",
        "- https://qiita.com/tomov3/items/039d4271ed30490edf7b"
      ]
    },
    {
      "cell_type": "code",
      "metadata": {
        "id": "_z0pMRoRoUEL"
      },
      "source": [
        "# 必要なライブラリの import\n",
        "from sklearn.datasets import load_iris\n",
        "from sklearn.model_selection import train_test_split\n",
        "from sklearn.linear_model import LogisticRegression"
      ],
      "execution_count": 1,
      "outputs": []
    },
    {
      "cell_type": "code",
      "metadata": {
        "colab": {
          "base_uri": "https://localhost:8080/"
        },
        "id": "lo2mC8mYoc8e",
        "outputId": "5b932035-66a7-4532-835b-db79332f2a99"
      },
      "source": [
        "# データのロード\n",
        "iris = load_iris()\n",
        "\n",
        "# データの分割\n",
        "X_train, X_test, y_train, y_test = train_test_split(iris.data, iris.target, random_state=0)\n",
        "\n",
        "# training set を用いて学習\n",
        "logreg = LogisticRegression(max_iter=1000).fit(X_train, y_train)\n",
        "\n",
        "# test set を用いて評価\n",
        "score = logreg.score(X_test, y_test)\n",
        "print('Test set score: {}'.format(score))"
      ],
      "execution_count": 2,
      "outputs": [
        {
          "output_type": "stream",
          "text": [
            "Test set score: 0.9736842105263158\n"
          ],
          "name": "stdout"
        }
      ]
    },
    {
      "cell_type": "code",
      "metadata": {
        "colab": {
          "base_uri": "https://localhost:8080/"
        },
        "id": "kPD0tAyWoeFm",
        "outputId": "0d5a6350-7545-47f2-c012-5a4842926d56"
      },
      "source": [
        "from sklearn.model_selection import cross_val_score\n",
        "logreg = LogisticRegression(max_iter=1000)\n",
        "# 交差検証\n",
        "scores = cross_val_score(logreg, iris.data, iris.target)\n",
        "# 各分割におけるスコア\n",
        "print('Cross-Validation scores: {}'.format(scores))\n",
        "# スコアの平均値\n",
        "import numpy as np\n",
        "print('Average score: {}'.format(np.mean(scores)))"
      ],
      "execution_count": 3,
      "outputs": [
        {
          "output_type": "stream",
          "text": [
            "Cross-Validation scores: [0.96666667 1.         0.93333333 0.96666667 1.        ]\n",
            "Average score: 0.9733333333333334\n"
          ],
          "name": "stdout"
        }
      ]
    },
    {
      "cell_type": "code",
      "metadata": {
        "colab": {
          "base_uri": "https://localhost:8080/"
        },
        "id": "OBbWP3g9ohiM",
        "outputId": "de23a39a-9d02-480f-a816-60e53ecffd38"
      },
      "source": [
        "from sklearn.model_selection import KFold\n",
        "from sklearn.model_selection import StratifiedKFold\n",
        "\n",
        "# 単純な方法\n",
        "kfold = KFold(n_splits=3)\n",
        "print('Cross-validation scores: \\n{}'.format(cross_val_score(logreg, iris.data, iris.target, cv=kfold)))\n",
        "\n",
        "# 層化 k 分割交差検証\n",
        "stratifiedkfold = StratifiedKFold(n_splits=3)\n",
        "print('Cross-validation scores: \\n{}'.format(cross_val_score(logreg, iris.data, iris.target, cv=stratifiedkfold)))"
      ],
      "execution_count": 4,
      "outputs": [
        {
          "output_type": "stream",
          "text": [
            "Cross-validation scores: \n",
            "[0. 0. 0.]\n",
            "Cross-validation scores: \n",
            "[0.98 0.96 0.98]\n"
          ],
          "name": "stdout"
        }
      ]
    },
    {
      "cell_type": "code",
      "metadata": {
        "colab": {
          "base_uri": "https://localhost:8080/"
        },
        "id": "gSVDaEgootOF",
        "outputId": "f36fb5dc-2115-4ed7-da60-aee45fcfc724"
      },
      "source": [
        "from sklearn.svm import SVC\n",
        "\n",
        "X_train, X_test, y_train, y_test = train_test_split(iris.data, iris.target, random_state=0)\n",
        "\n",
        "param_list = [0.001, 0.01, 0.1, 1, 10, 100]\n",
        "\n",
        "best_score = 0\n",
        "best_parameters = {}\n",
        "\n",
        "for gamma in param_list:\n",
        "    for C in param_list:\n",
        "        svm = SVC(gamma=gamma, C=C)\n",
        "        svm.fit(X_train, y_train)\n",
        "        score = svm.score(X_test, y_test)\n",
        "        # 最も良いスコアのパラメータとスコアを更新\n",
        "        if score > best_score:\n",
        "            best_score = score\n",
        "            best_parameters = {'gamma' : gamma, 'C' : C}\n",
        "\n",
        "print('Best score: {}'.format(best_score))\n",
        "print('Best parameters: {}'.format(best_parameters))"
      ],
      "execution_count": 5,
      "outputs": [
        {
          "output_type": "stream",
          "text": [
            "Best score: 0.9736842105263158\n",
            "Best parameters: {'gamma': 0.001, 'C': 100}\n"
          ],
          "name": "stdout"
        }
      ]
    },
    {
      "cell_type": "code",
      "metadata": {
        "colab": {
          "base_uri": "https://localhost:8080/"
        },
        "id": "PrJNdIoFowUG",
        "outputId": "9e92bf6e-ba38-4aa5-bbda-229103d5cb32"
      },
      "source": [
        "X_trainval, X_test, y_trainval, y_test = train_test_split(iris.data, iris.target, random_state=0)\n",
        "X_train, X_valid, y_train, y_valid = train_test_split(X_trainval, y_trainval, random_state=1)\n",
        "print('Size of trainings set: {}, validation set: {}, test set: {}'.format(X_train.shape, X_valid.shape, X_test.shape))"
      ],
      "execution_count": 6,
      "outputs": [
        {
          "output_type": "stream",
          "text": [
            "Size of trainings set: (84, 4), validation set: (28, 4), test set: (38, 4)\n"
          ],
          "name": "stdout"
        }
      ]
    },
    {
      "cell_type": "code",
      "metadata": {
        "colab": {
          "base_uri": "https://localhost:8080/"
        },
        "id": "xtAcryOKoyRB",
        "outputId": "b63583be-6a17-421c-9570-cc7770f5dc99"
      },
      "source": [
        "best_score = 0\n",
        "best_parameters = {}\n",
        "\n",
        "for gamma in param_list:\n",
        "    for C in param_list:\n",
        "        svm = SVC(gamma=gamma, C=C)\n",
        "        svm.fit(X_train, y_train)\n",
        "        # validation set を用いて score を計算する\n",
        "        score = svm.score(X_valid, y_valid)\n",
        "        if score > best_score:\n",
        "            best_score = score\n",
        "            best_parameters = {'gamma' : gamma, 'C' : C}\n",
        "\n",
        "svm = SVC(**best_parameters)\n",
        "# best_parameters に対し，training set + validation set を用いて学習する\n",
        "svm.fit(X_trainval, y_trainval)\n",
        "# test set による評価は，best_parameters が得られて初めて行われる\n",
        "test_score = svm.score(X_test, y_test)\n",
        "\n",
        "print('Best score on validation set: {}'.format(best_score))\n",
        "print('Best parameters: {}'.format(best_parameters))\n",
        "print('Test set score with best parameters: {}'.format(test_score))"
      ],
      "execution_count": 7,
      "outputs": [
        {
          "output_type": "stream",
          "text": [
            "Best score on validation set: 0.9642857142857143\n",
            "Best parameters: {'gamma': 0.001, 'C': 10}\n",
            "Test set score with best parameters: 0.9210526315789473\n"
          ],
          "name": "stdout"
        }
      ]
    },
    {
      "cell_type": "code",
      "metadata": {
        "colab": {
          "base_uri": "https://localhost:8080/"
        },
        "id": "MjdbYHeMo0eh",
        "outputId": "456216b7-dd9d-47f6-8aac-70daedd0f9d3"
      },
      "source": [
        "best_score = 0\n",
        "best_parameters  = {}\n",
        "\n",
        "for gamma in param_list:\n",
        "    for C in param_list:\n",
        "        svm = SVC(gamma=gamma, C=C)\n",
        "        # cross_val_score() による交差検証\n",
        "        scores = cross_val_score(svm, X_trainval, y_trainval, cv=5)\n",
        "        # k 個の評価値の平均を用いる\n",
        "        score = np.mean(scores)\n",
        "        if score > best_score:\n",
        "            best_score = score\n",
        "            best_parameters = {'gamma' : gamma, 'C' : C}\n",
        "\n",
        "svm = SVC(**best_parameters)\n",
        "# best_parameters に対し，training set + validation set を用いて学習する\n",
        "svm.fit(X_trainval, y_trainval)\n",
        "# test set による評価は，best_parameters が得られて初めて行われる\n",
        "test_score = svm.score(X_test, y_test)\n",
        "\n",
        "print('Best score on validation set: {}'.format(best_score))\n",
        "print('Best parameters: {}'.format(best_parameters))\n",
        "print('Test set score with best parameters: {}'.format(test_score))"
      ],
      "execution_count": 8,
      "outputs": [
        {
          "output_type": "stream",
          "text": [
            "Best score on validation set: 0.9731225296442687\n",
            "Best parameters: {'gamma': 0.1, 'C': 10}\n",
            "Test set score with best parameters: 0.9736842105263158\n"
          ],
          "name": "stdout"
        }
      ]
    },
    {
      "cell_type": "code",
      "metadata": {
        "colab": {
          "base_uri": "https://localhost:8080/"
        },
        "id": "EumXM-zJo3ZM",
        "outputId": "5d09f6e8-83bf-449b-f043-ef2f05768a44"
      },
      "source": [
        "from sklearn.model_selection import GridSearchCV\n",
        "\n",
        "# パラメータを dict 型で指定\n",
        "param_grid = {'C': [0.001, 0.01, 0.1, 1, 10, 100],  'gamma' : [0.001, 0.01, 0.1, 1, 10, 100]}\n",
        "\n",
        "# validation set は GridSearchCV が自動で作成してくれるため，\n",
        "# training set と test set の分割のみを実行すればよい\n",
        "X_train, X_test, y_train, y_test = train_test_split(iris.data, iris.target, random_state=0)\n",
        "\n",
        "grid_search = GridSearchCV(SVC(), param_grid, cv=5)\n",
        "\n",
        "# fit 関数を呼ぶことで交差検証とグリッドサーチがどちらも実行される\n",
        "grid_search.fit(X_train, y_train)"
      ],
      "execution_count": 9,
      "outputs": [
        {
          "output_type": "execute_result",
          "data": {
            "text/plain": [
              "GridSearchCV(cv=5, error_score=nan,\n",
              "             estimator=SVC(C=1.0, break_ties=False, cache_size=200,\n",
              "                           class_weight=None, coef0=0.0,\n",
              "                           decision_function_shape='ovr', degree=3,\n",
              "                           gamma='scale', kernel='rbf', max_iter=-1,\n",
              "                           probability=False, random_state=None, shrinking=True,\n",
              "                           tol=0.001, verbose=False),\n",
              "             iid='deprecated', n_jobs=None,\n",
              "             param_grid={'C': [0.001, 0.01, 0.1, 1, 10, 100],\n",
              "                         'gamma': [0.001, 0.01, 0.1, 1, 10, 100]},\n",
              "             pre_dispatch='2*n_jobs', refit=True, return_train_score=False,\n",
              "             scoring=None, verbose=0)"
            ]
          },
          "metadata": {
            "tags": []
          },
          "execution_count": 9
        }
      ]
    },
    {
      "cell_type": "code",
      "metadata": {
        "colab": {
          "base_uri": "https://localhost:8080/"
        },
        "id": "4uQcw7Vro6l5",
        "outputId": "14a3b7de-d71f-45ea-a365-db5d1d2e2522"
      },
      "source": [
        "print('Test set score: {}'.format(grid_search.score(X_test, y_test)))\n",
        "print('Best parameters: {}'.format(grid_search.best_params_))\n",
        "print('Best cross-validation: {}'.format(grid_search.best_score_))"
      ],
      "execution_count": 10,
      "outputs": [
        {
          "output_type": "stream",
          "text": [
            "Test set score: 0.9736842105263158\n",
            "Best parameters: {'C': 10, 'gamma': 0.1}\n",
            "Best cross-validation: 0.9731225296442687\n"
          ],
          "name": "stdout"
        }
      ]
    },
    {
      "cell_type": "code",
      "metadata": {
        "id": "DNl84DJUo85r"
      },
      "source": [
        ""
      ],
      "execution_count": 10,
      "outputs": []
    }
  ]
}