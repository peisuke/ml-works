{
  "nbformat": 4,
  "nbformat_minor": 0,
  "metadata": {
    "colab": {
      "name": "4_1.ipynb",
      "provenance": [],
      "authorship_tag": "ABX9TyM2Y3TKXRkV7HS2nTYzrxNZ",
      "include_colab_link": true
    },
    "kernelspec": {
      "name": "python3",
      "display_name": "Python 3"
    }
  },
  "cells": [
    {
      "cell_type": "markdown",
      "metadata": {
        "id": "view-in-github",
        "colab_type": "text"
      },
      "source": [
        "<a href=\"https://colab.research.google.com/github/peisuke/ml-works/blob/main/4/4_1.ipynb\" target=\"_parent\"><img src=\"https://colab.research.google.com/assets/colab-badge.svg\" alt=\"Open In Colab\"/></a>"
      ]
    },
    {
      "cell_type": "markdown",
      "metadata": {
        "id": "N_338wpAn9EQ"
      },
      "source": [
        "# 4.1 回帰における精度評価\n",
        "- 目的\n",
        "    - 様々な回帰の精度評価の計算を行う\n",
        "- 参考\n",
        "    - 本コードは以下のサイトを参考にしました\n",
        "    - https://pystyle.info/ml-regression-criteria/"
      ]
    },
    {
      "cell_type": "code",
      "metadata": {
        "colab": {
          "base_uri": "https://localhost:8080/"
        },
        "id": "etXIkXpblzgS",
        "outputId": "0f93a534-d49f-402e-dc48-47a15acbce71"
      },
      "source": [
        "# MSE (mean squared error, 2乗の平均を行う)\n",
        "import numpy as np\n",
        "from sklearn.metrics import mean_squared_error\n",
        "\n",
        "# y_trueが真の値、y_predが予測値\n",
        "y_true = np.array([1.0, 1.1, 1.3, 1.4, 1.6, 1.7, 1.9, 2.0])\n",
        "y_pred = np.array([1.0, 1.2, 1.3, 1.5, 1.5, 1.9, 1.9, 2.0])\n",
        "\n",
        "# 真の値と予測値のMSEを計算する\n",
        "# sklearn内の計算ロジックを利用するケース\n",
        "mse = mean_squared_error(y_true, y_pred)\n",
        "print(mse)\n",
        "\n",
        "# 予め用意された方法ではなく、numpyで直接誤差を計算する場合\n",
        "mse = np.mean((y_true - y_pred) ** 2)\n",
        "print(mse)"
      ],
      "execution_count": 1,
      "outputs": [
        {
          "output_type": "stream",
          "name": "stdout",
          "text": [
            "0.008749999999999997\n",
            "0.008749999999999997\n"
          ]
        }
      ]
    },
    {
      "cell_type": "code",
      "metadata": {
        "colab": {
          "base_uri": "https://localhost:8080/"
        },
        "id": "Nfhx7r4dl34k",
        "outputId": "7792c664-9d99-4844-91ff-bbb08d8ac0f6"
      },
      "source": [
        "# RMSE（誤差の平方根）を計算\n",
        "import numpy as np\n",
        "from sklearn.metrics import mean_squared_error\n",
        "\n",
        "# y_trueが真の値、y_predが予測値\n",
        "y_true = np.array([1.0, 1.1, 1.3, 1.4, 1.6, 1.7, 1.9, 2.0])\n",
        "y_pred = np.array([1.0, 1.2, 1.3, 1.5, 1.5, 1.9, 1.9, 2.0])\n",
        "\n",
        "rmse = np.sqrt(mean_squared_error(y_true, y_pred))\n",
        "print(rmse)\n",
        "\n",
        "rmse = np.sqrt(np.mean((y_true - y_pred) ** 2))\n",
        "print(rmse)"
      ],
      "execution_count": 2,
      "outputs": [
        {
          "output_type": "stream",
          "name": "stdout",
          "text": [
            "0.09354143466934851\n",
            "0.09354143466934851\n"
          ]
        }
      ]
    },
    {
      "cell_type": "code",
      "metadata": {
        "colab": {
          "base_uri": "https://localhost:8080/"
        },
        "id": "V-BhG-n1l51v",
        "outputId": "0faf6f21-6d60-4702-a72b-fcd2cb83d2ba"
      },
      "source": [
        "# MSLEの計算\n",
        "import numpy as np\n",
        "from sklearn.metrics import mean_squared_log_error\n",
        "\n",
        "# y_trueが真の値、y_predが予測値\n",
        "y_true = np.array([1.0, 1.1, 1.3, 1.4, 1.6, 1.7, 1.9, 2.0])\n",
        "y_pred = np.array([1.0, 1.2, 1.3, 1.5, 1.5, 1.9, 1.9, 2.0])\n",
        "\n",
        "msle = mean_squared_log_error(y_true, y_pred)\n",
        "print(msle)\n",
        "\n",
        "msle = np.mean((np.log1p(y_true) - np.log1p(y_pred)) ** 2)\n",
        "print(msle)"
      ],
      "execution_count": 3,
      "outputs": [
        {
          "output_type": "stream",
          "name": "stdout",
          "text": [
            "0.0013093993706169834\n",
            "0.0013093993706169834\n"
          ]
        }
      ]
    },
    {
      "cell_type": "code",
      "metadata": {
        "colab": {
          "base_uri": "https://localhost:8080/"
        },
        "id": "6U2wuaDUl7-H",
        "outputId": "d116bf2d-71a1-4b1e-ae7f-0f290b971e42"
      },
      "source": [
        "# RMSLEの計算\n",
        "import numpy as np\n",
        "from sklearn.metrics import mean_squared_log_error\n",
        "\n",
        "# y_trueが真の値、y_predが予測値\n",
        "y_true = np.array([1.0, 1.1, 1.3, 1.4, 1.6, 1.7, 1.9, 2.0])\n",
        "y_pred = np.array([1.0, 1.2, 1.3, 1.5, 1.5, 1.9, 1.9, 2.0])\n",
        "\n",
        "rmsle = np.sqrt(mean_squared_log_error(y_true, y_pred))\n",
        "print(rmsle)\n",
        "\n",
        "rmsle = np.sqrt(np.mean((np.log1p(y_true) - np.log1p(y_pred)) ** 2))\n",
        "print(rmsle)"
      ],
      "execution_count": 4,
      "outputs": [
        {
          "output_type": "stream",
          "name": "stdout",
          "text": [
            "0.03618562381135613\n",
            "0.03618562381135613\n"
          ]
        }
      ]
    },
    {
      "cell_type": "code",
      "metadata": {
        "colab": {
          "base_uri": "https://localhost:8080/"
        },
        "id": "AVPtzDLul9v8",
        "outputId": "72bc1eb8-0769-41b7-a262-b9ada2bcc96f"
      },
      "source": [
        "# MAE（絶対値の差異）の計算\n",
        "import numpy as np\n",
        "from sklearn.metrics import mean_absolute_error\n",
        "\n",
        "# y_trueが真の値、y_predが予測値\n",
        "y_true = np.array([1.0, 1.1, 1.3, 1.4, 1.6, 1.7, 1.9, 2.0])\n",
        "y_pred = np.array([1.0, 1.2, 1.3, 1.5, 1.5, 1.9, 1.9, 2.0])\n",
        "\n",
        "mae = mean_absolute_error(y_true, y_pred)\n",
        "print(mae)\n",
        "\n",
        "mae = np.mean(np.abs(y_true - y_pred))\n",
        "print(mae)"
      ],
      "execution_count": 5,
      "outputs": [
        {
          "output_type": "stream",
          "name": "stdout",
          "text": [
            "0.0625\n",
            "0.0625\n"
          ]
        }
      ]
    },
    {
      "cell_type": "code",
      "metadata": {
        "colab": {
          "base_uri": "https://localhost:8080/"
        },
        "id": "SvRq12DXmAl7",
        "outputId": "024fd7cc-93e1-454d-b832-fd3e7b3bcc1e"
      },
      "source": [
        "# R2の計算\n",
        "from sklearn.metrics import r2_score\n",
        "\n",
        "# y_trueが真の値、y_predが予測値\n",
        "y_true = np.array([1.0, 1.1, 1.3, 1.4, 1.6, 1.7, 1.9, 2.0])\n",
        "y_pred = np.array([1.0, 1.2, 1.3, 1.5, 1.5, 1.9, 1.9, 2.0])\n",
        "\n",
        "r2 = r2_score(y_true, y_pred)\n",
        "print(r2)\n",
        "\n",
        "r2 = 1 - np.mean((y_true - y_pred) ** 2) / np.mean((y_true - y_true.mean()) ** 2)\n",
        "print(r2)"
      ],
      "execution_count": 6,
      "outputs": [
        {
          "output_type": "stream",
          "name": "stdout",
          "text": [
            "0.9239130434782609\n",
            "0.9239130434782609\n"
          ]
        }
      ]
    }
  ]
}