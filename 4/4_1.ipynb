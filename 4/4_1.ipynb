{
  "nbformat": 4,
  "nbformat_minor": 0,
  "metadata": {
    "colab": {
      "name": "4_1.ipynb",
      "provenance": [],
      "authorship_tag": "ABX9TyOF9pnH/AkCbvxWYjpbGdrV",
      "include_colab_link": true
    },
    "kernelspec": {
      "name": "python3",
      "display_name": "Python 3"
    }
  },
  "cells": [
    {
      "cell_type": "markdown",
      "metadata": {
        "id": "view-in-github",
        "colab_type": "text"
      },
      "source": [
        "<a href=\"https://colab.research.google.com/github/peisuke/ml-works/blob/main/4/4_1.ipynb\" target=\"_parent\"><img src=\"https://colab.research.google.com/assets/colab-badge.svg\" alt=\"Open In Colab\"/></a>"
      ]
    },
    {
      "cell_type": "code",
      "metadata": {
        "colab": {
          "base_uri": "https://localhost:8080/"
        },
        "id": "etXIkXpblzgS",
        "outputId": "bf08f3cb-c7ed-4c1d-ee6a-5079b31eab93"
      },
      "source": [
        "import numpy as np\n",
        "from sklearn.metrics import mean_squared_error\n",
        "\n",
        "# y_trueが真の値、y_predが予測値\n",
        "y_true = np.array([1.0, 1.1, 1.3, 1.4, 1.6, 1.7, 1.9, 2.0])\n",
        "y_pred = np.array([1.0, 1.2, 1.3, 1.5, 1.5, 1.9, 1.9, 2.0])\n",
        "\n",
        "# scikit-learn で計算する場合\n",
        "mse = mean_squared_error(y_true, y_pred)\n",
        "print(mse)\n",
        "\n",
        "# numpy で計算する場合\n",
        "mse = np.mean((y_true - y_pred) ** 2)\n",
        "print(mse)"
      ],
      "execution_count": 1,
      "outputs": [
        {
          "output_type": "stream",
          "text": [
            "0.008749999999999997\n",
            "0.008749999999999997\n"
          ],
          "name": "stdout"
        }
      ]
    },
    {
      "cell_type": "code",
      "metadata": {
        "colab": {
          "base_uri": "https://localhost:8080/"
        },
        "id": "Nfhx7r4dl34k",
        "outputId": "87f33931-e9bc-4663-9c3a-799cf9377013"
      },
      "source": [
        "import numpy as np\n",
        "from sklearn.metrics import mean_squared_error\n",
        "\n",
        "# y_trueが真の値、y_predが予測値\n",
        "y_true = np.array([1.0, 1.1, 1.3, 1.4, 1.6, 1.7, 1.9, 2.0])\n",
        "y_pred = np.array([1.0, 1.2, 1.3, 1.5, 1.5, 1.9, 1.9, 2.0])\n",
        "\n",
        "# scikit-learn で計算する場合\n",
        "rmse = np.sqrt(mean_squared_error(y_true, y_pred))\n",
        "print(rmse)\n",
        "\n",
        "# numpy で計算する場合\n",
        "rmse = np.sqrt(np.mean((y_true - y_pred) ** 2))\n",
        "print(rmse)"
      ],
      "execution_count": 2,
      "outputs": [
        {
          "output_type": "stream",
          "text": [
            "0.09354143466934851\n",
            "0.09354143466934851\n"
          ],
          "name": "stdout"
        }
      ]
    },
    {
      "cell_type": "code",
      "metadata": {
        "colab": {
          "base_uri": "https://localhost:8080/"
        },
        "id": "V-BhG-n1l51v",
        "outputId": "f090773e-2aa4-4b13-d37d-2672d936b015"
      },
      "source": [
        "import numpy as np\n",
        "from sklearn.metrics import mean_squared_log_error\n",
        "\n",
        "# y_trueが真の値、y_predが予測値\n",
        "y_true = np.array([1.0, 1.1, 1.3, 1.4, 1.6, 1.7, 1.9, 2.0])\n",
        "y_pred = np.array([1.0, 1.2, 1.3, 1.5, 1.5, 1.9, 1.9, 2.0])\n",
        "\n",
        "# scikit-learn で計算する場合\n",
        "msle = mean_squared_log_error(y_true, y_pred)\n",
        "print(msle)\n",
        "\n",
        "# numpy で計算する場合\n",
        "msle = np.mean((np.log1p(y_true) - np.log1p(y_pred)) ** 2)\n",
        "print(msle)"
      ],
      "execution_count": 3,
      "outputs": [
        {
          "output_type": "stream",
          "text": [
            "0.0013093993706169834\n",
            "0.0013093993706169834\n"
          ],
          "name": "stdout"
        }
      ]
    },
    {
      "cell_type": "code",
      "metadata": {
        "colab": {
          "base_uri": "https://localhost:8080/"
        },
        "id": "6U2wuaDUl7-H",
        "outputId": "9558a3de-ab67-4065-e5d6-1a7556608c04"
      },
      "source": [
        "import numpy as np\n",
        "from sklearn.metrics import mean_squared_log_error\n",
        "\n",
        "# y_trueが真の値、y_predが予測値\n",
        "y_true = np.array([1.0, 1.1, 1.3, 1.4, 1.6, 1.7, 1.9, 2.0])\n",
        "y_pred = np.array([1.0, 1.2, 1.3, 1.5, 1.5, 1.9, 1.9, 2.0])\n",
        "\n",
        "# scikit-learn で計算する場合\n",
        "rmsle = np.sqrt(mean_squared_log_error(y_true, y_pred))\n",
        "print(rmsle)\n",
        "\n",
        "# numpy で計算する場合\n",
        "rmsle = np.sqrt(np.mean((np.log1p(y_true) - np.log1p(y_pred)) ** 2))\n",
        "print(rmsle)"
      ],
      "execution_count": 4,
      "outputs": [
        {
          "output_type": "stream",
          "text": [
            "0.03618562381135613\n",
            "0.03618562381135613\n"
          ],
          "name": "stdout"
        }
      ]
    },
    {
      "cell_type": "code",
      "metadata": {
        "colab": {
          "base_uri": "https://localhost:8080/"
        },
        "id": "AVPtzDLul9v8",
        "outputId": "575d9298-2faf-465e-a9b7-5643bf7df206"
      },
      "source": [
        "import numpy as np\n",
        "from sklearn.metrics import mean_absolute_error\n",
        "\n",
        "# y_trueが真の値、y_predが予測値\n",
        "y_true = np.array([1.0, 1.1, 1.3, 1.4, 1.6, 1.7, 1.9, 2.0])\n",
        "y_pred = np.array([1.0, 1.2, 1.3, 1.5, 1.5, 1.9, 1.9, 2.0])\n",
        "\n",
        "# scikit-learn で計算する場合\n",
        "mae = mean_absolute_error(y_true, y_pred)\n",
        "print(mae)\n",
        "\n",
        "# numpy で計算する場合\n",
        "mae = np.mean(np.abs(y_true - y_pred))\n",
        "print(mae)"
      ],
      "execution_count": 5,
      "outputs": [
        {
          "output_type": "stream",
          "text": [
            "0.0625\n",
            "0.0625\n"
          ],
          "name": "stdout"
        }
      ]
    },
    {
      "cell_type": "code",
      "metadata": {
        "colab": {
          "base_uri": "https://localhost:8080/"
        },
        "id": "SvRq12DXmAl7",
        "outputId": "9de9bdde-dc08-4b33-b426-509add91d3db"
      },
      "source": [
        "from sklearn.metrics import r2_score\n",
        "\n",
        "# y_trueが真の値、y_predが予測値\n",
        "y_true = np.array([1.0, 1.1, 1.3, 1.4, 1.6, 1.7, 1.9, 2.0])\n",
        "y_pred = np.array([1.0, 1.2, 1.3, 1.5, 1.5, 1.9, 1.9, 2.0])\n",
        "\n",
        "# scikit-learn で計算する場合\n",
        "r2 = r2_score(y_true, y_pred)\n",
        "print(r2)\n",
        "\n",
        "# numpy で計算する場合\n",
        "r2 = 1 - np.mean((y_true - y_pred) ** 2) / np.mean((y_true - y_true.mean()) ** 2)\n",
        "print(r2)"
      ],
      "execution_count": 6,
      "outputs": [
        {
          "output_type": "stream",
          "text": [
            "0.9239130434782609\n",
            "0.9239130434782609\n"
          ],
          "name": "stdout"
        }
      ]
    }
  ]
}