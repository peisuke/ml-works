{
  "nbformat": 4,
  "nbformat_minor": 0,
  "metadata": {
    "colab": {
      "name": "2_2.ipynb",
      "provenance": [],
      "include_colab_link": true
    },
    "kernelspec": {
      "name": "python3",
      "display_name": "Python 3"
    }
  },
  "cells": [
    {
      "cell_type": "markdown",
      "metadata": {
        "id": "view-in-github",
        "colab_type": "text"
      },
      "source": [
        "<a href=\"https://colab.research.google.com/github/peisuke/ml-works/blob/main/2/2_2.ipynb\" target=\"_parent\"><img src=\"https://colab.research.google.com/assets/colab-badge.svg\" alt=\"Open In Colab\"/></a>"
      ]
    },
    {
      "cell_type": "markdown",
      "metadata": {
        "id": "s9wUjYu9vq1_"
      },
      "source": [
        "# 2.2 多項式回帰\n",
        "- 目的\n",
        "    - 多項式での線形回帰を行う\n",
        "    - 線形基底関数モデル資料中の1次方程式・2次方程式・3次方程式に対応\n",
        "- 内容\n",
        "    - シミュレーションデータを対象に、直線以外の当てはめを行う\n",
        "- 参考\n",
        "    - 本コードは以下のサイトを参考にしました\n",
        "    - https://www.haya-programming.com/entry/2019/07/14/043223"
      ]
    },
    {
      "cell_type": "code",
      "metadata": {
        "id": "dzyXu24OfmYO"
      },
      "source": [
        "import numpy as np\n",
        "import matplotlib.pyplot as plt\n",
        "from sklearn.preprocessing import PolynomialFeatures\n",
        "from sklearn.linear_model import LinearRegression\n",
        "from sklearn.pipeline import Pipeline"
      ],
      "execution_count": 1,
      "outputs": []
    },
    {
      "cell_type": "code",
      "metadata": {
        "id": "_D4fZwbNfpBP"
      },
      "source": [
        "# シミュレーションデータを作成\n",
        "# y = 2 + 2x + 2x^2 - 2x^3 + 乱数のデータを作成\n",
        "np.random.seed(0)\n",
        "x = np.linspace(-3, 3, 40)\n",
        "y = 2 + 2 * x + 2 * x ** 2 - 2 * x ** 3 +\\\n",
        "    np.random.normal(scale=10, size=x.shape)\n",
        "X = x.reshape(-1, 1)"
      ],
      "execution_count": 2,
      "outputs": []
    },
    {
      "cell_type": "code",
      "source": [
        "print(x[:3])\n",
        "print(y[:3])"
      ],
      "metadata": {
        "id": "KNYT53XDN-vc",
        "outputId": "52bbdd8e-019f-4c29-a946-10580d652db1",
        "colab": {
          "base_uri": "https://localhost:8080/"
        }
      },
      "execution_count": 3,
      "outputs": [
        {
          "output_type": "stream",
          "name": "stdout",
          "text": [
            "[-3.         -2.84615385 -2.69230769]\n",
            "[85.64052346 62.62150836 59.93030201]\n"
          ]
        }
      ]
    },
    {
      "cell_type": "code",
      "metadata": {
        "colab": {
          "base_uri": "https://localhost:8080/"
        },
        "id": "rqXEHsB7fr9K",
        "outputId": "65179dd9-c2ec-4278-cd0e-6064875ca6e2"
      },
      "source": [
        "# 多項式回帰を実施\n",
        "# y = a + bx + cx^2 + dx^3としたときに、上記x,yに当てはまるa,b,c,dを求める\n",
        "pf = PolynomialFeatures(degree=3, include_bias=False)\n",
        "lr = LinearRegression()\n",
        "pl = Pipeline([(\"PF\", pf), (\"LR\", lr)])\n",
        "pl.fit(X, y)"
      ],
      "execution_count": 4,
      "outputs": [
        {
          "output_type": "execute_result",
          "data": {
            "text/plain": [
              "Pipeline(steps=[('PF', PolynomialFeatures(degree=3, include_bias=False)),\n",
              "                ('LR', LinearRegression())])"
            ]
          },
          "metadata": {},
          "execution_count": 4
        }
      ]
    },
    {
      "cell_type": "code",
      "metadata": {
        "id": "S4jTCp9ofvVQ"
      },
      "source": [
        "# 学習に使ったXに対して推論\n",
        "pred_y = pl.predict(X)"
      ],
      "execution_count": 5,
      "outputs": []
    },
    {
      "cell_type": "code",
      "source": [
        "print(x[:3])\n",
        "print(pred_y[:3])"
      ],
      "metadata": {
        "id": "i-7J7qEROC7E",
        "outputId": "18a3d572-42a5-4436-af02-c0ad6d524bb4",
        "colab": {
          "base_uri": "https://localhost:8080/"
        }
      },
      "execution_count": 6,
      "outputs": [
        {
          "output_type": "stream",
          "name": "stdout",
          "text": [
            "[-3.         -2.84615385 -2.69230769]\n",
            "[81.79522201 70.97896737 61.17435658]\n"
          ]
        }
      ]
    },
    {
      "cell_type": "code",
      "metadata": {
        "colab": {
          "base_uri": "https://localhost:8080/",
          "height": 281
        },
        "id": "Z5w8sSQKfxLv",
        "outputId": "6bb8f9b9-36f1-4ecb-e5d4-dc11ef8f6ae8"
      },
      "source": [
        "# 推論結果をプロット\n",
        "plt.scatter(x, y, c=\"b\", alpha=0.2)\n",
        "plt.plot(x, pred_y, c=\"b\")\n",
        "plt.title(    \n",
        "    \"predicted model: \"\n",
        "    \"{0:.2f} + {1:.2f}x + {2:.2f}x^2 + \"\n",
        "    \"{3:.2f}x^3\".format(\n",
        "        pl.named_steps.LR.intercept_,\n",
        "        *pl.named_steps.LR.coef_))\n",
        "plt.show()"
      ],
      "execution_count": 7,
      "outputs": [
        {
          "output_type": "display_data",
          "data": {
            "image/png": "[encoded data removed]",
            "text/plain": [
              "<Figure size 432x288 with 1 Axes>"
            ]
          },
          "metadata": {
            "needs_background": "light"
          }
        }
      ]
    },
    {
      "cell_type": "code",
      "source": [
        ""
      ],
      "metadata": {
        "id": "9IlCjmygOIZC"
      },
      "execution_count": 7,
      "outputs": []
    }
  ]
}